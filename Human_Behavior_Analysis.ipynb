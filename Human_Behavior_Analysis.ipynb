{
  "cells": [
    {
      "cell_type": "code",
      "execution_count": null,
      "metadata": {
        "id": "LhM1CZM__VDT"
      },
      "outputs": [],
      "source": [
        "import pandas as pd\n",
        "import pandas as pd\n",
        "import numpy as np\n",
        "import nltk\n",
        "from sklearn.model_selection import train_test_split\n",
        "from nltk.corpus import stopwords\n",
        "import re\n",
        "from nltk.stem import WordNetLemmatizer\n",
        "import seaborn as sns\n",
        "import matplotlib.pyplot as plt\n",
        "from sklearn.metrics import roc_curve\n",
        "from sklearn.metrics import roc_auc_score\n",
        "from sklearn.linear_model import LogisticRegression\n",
        "from sklearn.tree import DecisionTreeClassifier\n",
        "from xgboost import XGBClassifier,XGBRegressor\n",
        "from sklearn.feature_extraction.text import TfidfVectorizer\n",
        "from sklearn.feature_extraction.text import CountVectorizer,TfidfTransformer\n",
        "from sklearn.metrics import accuracy_score\n",
        "from sklearn.model_selection import GridSearchCV"
      ]
    },
    {
      "cell_type": "code",
      "execution_count": null,
      "metadata": {
        "colab": {
          "base_uri": "https://localhost:8080/",
          "height": 424
        },
        "id": "ITeeesYx_u2j",
        "outputId": "9ba8e27c-76ca-4f5a-a2d6-0825134f5bc8"
      },
      "outputs": [
        {
          "data": {
            "text/html": [
              "\n",
              "  <div id=\"df-954dd568-d309-431d-bc38-46c7ba8f7fd6\">\n",
              "    <div class=\"colab-df-container\">\n",
              "      <div>\n",
              "<style scoped>\n",
              "    .dataframe tbody tr th:only-of-type {\n",
              "        vertical-align: middle;\n",
              "    }\n",
              "\n",
              "    .dataframe tbody tr th {\n",
              "        vertical-align: top;\n",
              "    }\n",
              "\n",
              "    .dataframe thead th {\n",
              "        text-align: right;\n",
              "    }\n",
              "</style>\n",
              "<table border=\"1\" class=\"dataframe\">\n",
              "  <thead>\n",
              "    <tr style=\"text-align: right;\">\n",
              "      <th></th>\n",
              "      <th>type</th>\n",
              "      <th>posts</th>\n",
              "    </tr>\n",
              "  </thead>\n",
              "  <tbody>\n",
              "    <tr>\n",
              "      <th>0</th>\n",
              "      <td>INFJ</td>\n",
              "      <td>'http://www.youtube.com/watch?v=qsXHcwe3krw|||...</td>\n",
              "    </tr>\n",
              "    <tr>\n",
              "      <th>1</th>\n",
              "      <td>ENTP</td>\n",
              "      <td>'I'm finding the lack of me in these posts ver...</td>\n",
              "    </tr>\n",
              "    <tr>\n",
              "      <th>2</th>\n",
              "      <td>INTP</td>\n",
              "      <td>'Good one  _____   https://www.youtube.com/wat...</td>\n",
              "    </tr>\n",
              "    <tr>\n",
              "      <th>3</th>\n",
              "      <td>INTJ</td>\n",
              "      <td>'Dear INTP,   I enjoyed our conversation the o...</td>\n",
              "    </tr>\n",
              "    <tr>\n",
              "      <th>4</th>\n",
              "      <td>ENTJ</td>\n",
              "      <td>'You're fired.|||That's another silly misconce...</td>\n",
              "    </tr>\n",
              "    <tr>\n",
              "      <th>...</th>\n",
              "      <td>...</td>\n",
              "      <td>...</td>\n",
              "    </tr>\n",
              "    <tr>\n",
              "      <th>8670</th>\n",
              "      <td>ISFP</td>\n",
              "      <td>'https://www.youtube.com/watch?v=t8edHB_h908||...</td>\n",
              "    </tr>\n",
              "    <tr>\n",
              "      <th>8671</th>\n",
              "      <td>ENFP</td>\n",
              "      <td>'So...if this thread already exists someplace ...</td>\n",
              "    </tr>\n",
              "    <tr>\n",
              "      <th>8672</th>\n",
              "      <td>INTP</td>\n",
              "      <td>'So many questions when i do these things.  I ...</td>\n",
              "    </tr>\n",
              "    <tr>\n",
              "      <th>8673</th>\n",
              "      <td>INFP</td>\n",
              "      <td>'I am very conflicted right now when it comes ...</td>\n",
              "    </tr>\n",
              "    <tr>\n",
              "      <th>8674</th>\n",
              "      <td>INFP</td>\n",
              "      <td>'It has been too long since I have been on per...</td>\n",
              "    </tr>\n",
              "  </tbody>\n",
              "</table>\n",
              "<p>8675 rows × 2 columns</p>\n",
              "</div>\n",
              "      <button class=\"colab-df-convert\" onclick=\"convertToInteractive('df-954dd568-d309-431d-bc38-46c7ba8f7fd6')\"\n",
              "              title=\"Convert this dataframe to an interactive table.\"\n",
              "              style=\"display:none;\">\n",
              "        \n",
              "  <svg xmlns=\"http://www.w3.org/2000/svg\" height=\"24px\"viewBox=\"0 0 24 24\"\n",
              "       width=\"24px\">\n",
              "    <path d=\"M0 0h24v24H0V0z\" fill=\"none\"/>\n",
              "    <path d=\"M18.56 5.44l.94 2.06.94-2.06 2.06-.94-2.06-.94-.94-2.06-.94 2.06-2.06.94zm-11 1L8.5 8.5l.94-2.06 2.06-.94-2.06-.94L8.5 2.5l-.94 2.06-2.06.94zm10 10l.94 2.06.94-2.06 2.06-.94-2.06-.94-.94-2.06-.94 2.06-2.06.94z\"/><path d=\"M17.41 7.96l-1.37-1.37c-.4-.4-.92-.59-1.43-.59-.52 0-1.04.2-1.43.59L10.3 9.45l-7.72 7.72c-.78.78-.78 2.05 0 2.83L4 21.41c.39.39.9.59 1.41.59.51 0 1.02-.2 1.41-.59l7.78-7.78 2.81-2.81c.8-.78.8-2.07 0-2.86zM5.41 20L4 18.59l7.72-7.72 1.47 1.35L5.41 20z\"/>\n",
              "  </svg>\n",
              "      </button>\n",
              "      \n",
              "  <style>\n",
              "    .colab-df-container {\n",
              "      display:flex;\n",
              "      flex-wrap:wrap;\n",
              "      gap: 12px;\n",
              "    }\n",
              "\n",
              "    .colab-df-convert {\n",
              "      background-color: #E8F0FE;\n",
              "      border: none;\n",
              "      border-radius: 50%;\n",
              "      cursor: pointer;\n",
              "      display: none;\n",
              "      fill: #1967D2;\n",
              "      height: 32px;\n",
              "      padding: 0 0 0 0;\n",
              "      width: 32px;\n",
              "    }\n",
              "\n",
              "    .colab-df-convert:hover {\n",
              "      background-color: #E2EBFA;\n",
              "      box-shadow: 0px 1px 2px rgba(60, 64, 67, 0.3), 0px 1px 3px 1px rgba(60, 64, 67, 0.15);\n",
              "      fill: #174EA6;\n",
              "    }\n",
              "\n",
              "    [theme=dark] .colab-df-convert {\n",
              "      background-color: #3B4455;\n",
              "      fill: #D2E3FC;\n",
              "    }\n",
              "\n",
              "    [theme=dark] .colab-df-convert:hover {\n",
              "      background-color: #434B5C;\n",
              "      box-shadow: 0px 1px 3px 1px rgba(0, 0, 0, 0.15);\n",
              "      filter: drop-shadow(0px 1px 2px rgba(0, 0, 0, 0.3));\n",
              "      fill: #FFFFFF;\n",
              "    }\n",
              "  </style>\n",
              "\n",
              "      <script>\n",
              "        const buttonEl =\n",
              "          document.querySelector('#df-954dd568-d309-431d-bc38-46c7ba8f7fd6 button.colab-df-convert');\n",
              "        buttonEl.style.display =\n",
              "          google.colab.kernel.accessAllowed ? 'block' : 'none';\n",
              "\n",
              "        async function convertToInteractive(key) {\n",
              "          const element = document.querySelector('#df-954dd568-d309-431d-bc38-46c7ba8f7fd6');\n",
              "          const dataTable =\n",
              "            await google.colab.kernel.invokeFunction('convertToInteractive',\n",
              "                                                     [key], {});\n",
              "          if (!dataTable) return;\n",
              "\n",
              "          const docLinkHtml = 'Like what you see? Visit the ' +\n",
              "            '<a target=\"_blank\" href=https://colab.research.google.com/notebooks/data_table.ipynb>data table notebook</a>'\n",
              "            + ' to learn more about interactive tables.';\n",
              "          element.innerHTML = '';\n",
              "          dataTable['output_type'] = 'display_data';\n",
              "          await google.colab.output.renderOutput(dataTable, element);\n",
              "          const docLink = document.createElement('div');\n",
              "          docLink.innerHTML = docLinkHtml;\n",
              "          element.appendChild(docLink);\n",
              "        }\n",
              "      </script>\n",
              "    </div>\n",
              "  </div>\n",
              "  "
            ],
            "text/plain": [
              "      type                                              posts\n",
              "0     INFJ  'http://www.youtube.com/watch?v=qsXHcwe3krw|||...\n",
              "1     ENTP  'I'm finding the lack of me in these posts ver...\n",
              "2     INTP  'Good one  _____   https://www.youtube.com/wat...\n",
              "3     INTJ  'Dear INTP,   I enjoyed our conversation the o...\n",
              "4     ENTJ  'You're fired.|||That's another silly misconce...\n",
              "...    ...                                                ...\n",
              "8670  ISFP  'https://www.youtube.com/watch?v=t8edHB_h908||...\n",
              "8671  ENFP  'So...if this thread already exists someplace ...\n",
              "8672  INTP  'So many questions when i do these things.  I ...\n",
              "8673  INFP  'I am very conflicted right now when it comes ...\n",
              "8674  INFP  'It has been too long since I have been on per...\n",
              "\n",
              "[8675 rows x 2 columns]"
            ]
          },
          "execution_count": 3,
          "metadata": {},
          "output_type": "execute_result"
        }
      ],
      "source": [
        "df=pd.read_csv(\"/content/drive/MyDrive/fypalldata/mbti_1.csv\")\n",
        "df"
      ]
    },
    {
      "cell_type": "code",
      "execution_count": null,
      "metadata": {
        "colab": {
          "base_uri": "https://localhost:8080/"
        },
        "id": "mtSb50Z5A_a6",
        "outputId": "5e817093-7ebd-467e-b545-95917d0c275f"
      },
      "outputs": [
        {
          "data": {
            "text/plain": [
              "INFP    1832\n",
              "INFJ    1470\n",
              "INTP    1304\n",
              "INTJ    1091\n",
              "ENTP     685\n",
              "ENFP     675\n",
              "ISTP     337\n",
              "ISFP     271\n",
              "ENTJ     231\n",
              "ISTJ     205\n",
              "ENFJ     190\n",
              "ISFJ     166\n",
              "ESTP      89\n",
              "ESFP      48\n",
              "ESFJ      42\n",
              "ESTJ      39\n",
              "Name: type, dtype: int64"
            ]
          },
          "execution_count": 4,
          "metadata": {},
          "output_type": "execute_result"
        }
      ],
      "source": [
        "df.type.value_counts()  #classes are imbalanced"
      ]
    },
    {
      "cell_type": "code",
      "execution_count": null,
      "metadata": {
        "colab": {
          "base_uri": "https://localhost:8080/"
        },
        "id": "o5Yc9UsKBMmG",
        "outputId": "1ff19e21-87a7-46ac-ee03-c2bf1a67e1c4"
      },
      "outputs": [
        {
          "name": "stdout",
          "output_type": "stream",
          "text": [
            "NaN value in post column are 0\n"
          ]
        }
      ],
      "source": [
        "check_nan_value_post=df['posts'].isnull().sum()\n",
        "print('NaN value in post column are'+ \" \" + str(check_nan_value_post))\n",
        "\n"
      ]
    },
    {
      "cell_type": "code",
      "execution_count": null,
      "metadata": {
        "colab": {
          "base_uri": "https://localhost:8080/",
          "height": 466
        },
        "id": "mOiR2y5sBXnl",
        "outputId": "c4dbcd56-b61f-4591-a961-a49ecb52aa7b"
      },
      "outputs": [
        {
          "data": {
            "text/plain": [
              "<Axes: xlabel='type', ylabel='count'>"
            ]
          },
          "execution_count": 6,
          "metadata": {},
          "output_type": "execute_result"
        },
        {
          "data": {
            "image/png": "[encoded data removed]",
            "text/plain": [
              "<Figure size 640x480 with 1 Axes>"
            ]
          },
          "metadata": {},
          "output_type": "display_data"
        }
      ],
      "source": [
        "sns.countplot(x=df[\"type\"]) #since dataset is imbalanced so we will apply SMOTE"
      ]
    },
    {
      "cell_type": "code",
      "execution_count": null,
      "metadata": {
        "id": "EEqTAXWOBYy4"
      },
      "outputs": [],
      "source": [
        "features = ['posts']\n",
        "X = df.loc[:, features]\n",
        "y = df.loc[:, ['type']]"
      ]
    },
    {
      "cell_type": "markdown",
      "metadata": {
        "id": "tgi8q5szBls1"
      },
      "source": [
        "# Pre-Processing of **Dataset**"
      ]
    },
    {
      "cell_type": "code",
      "execution_count": null,
      "metadata": {
        "colab": {
          "base_uri": "https://localhost:8080/"
        },
        "id": "ntgIU-HMBdTi",
        "outputId": "af2384f9-8247-4473-90f3-311e31ee140b"
      },
      "outputs": [
        {
          "data": {
            "text/plain": [
              "0       'http://www.youtube.com/watch?v=qsxhcwe3krw|||...\n",
              "1       'i'm finding the lack of me in these posts ver...\n",
              "2       'good one  _____   https://www.youtube.com/wat...\n",
              "3       'dear intp,   i enjoyed our conversation the o...\n",
              "4       'you're fired.|||that's another silly misconce...\n",
              "                              ...                        \n",
              "8670    'https://www.youtube.com/watch?v=t8edhb_h908||...\n",
              "8671    'so...if this thread already exists someplace ...\n",
              "8672    'so many questions when i do these things.  i ...\n",
              "8673    'i am very conflicted right now when it comes ...\n",
              "8674    'it has been too long since i have been on per...\n",
              "Name: posts, Length: 8675, dtype: object"
            ]
          },
          "execution_count": 8,
          "metadata": {},
          "output_type": "execute_result"
        }
      ],
      "source": [
        "#converting to lower case in nlp\n",
        "\n",
        "df[\"posts\"] = df[\"posts\"].str.lower()\n",
        "df[\"posts\"]"
      ]
    },
    {
      "cell_type": "code",
      "execution_count": null,
      "metadata": {
        "colab": {
          "base_uri": "https://localhost:8080/"
        },
        "id": "6Vx50-UzBpEs",
        "outputId": "507ac257-e2e6-441c-ed2c-f18a4ebe2fa7"
      },
      "outputs": [
        {
          "data": {
            "text/plain": [
              "0       ' ||| |||enfp and intj moments     sportscente...\n",
              "1       'i'm finding the lack of me in these posts ver...\n",
              "2       'good one  _____    |||of course, to which i s...\n",
              "3       'dear intp,   i enjoyed our conversation the o...\n",
              "4       'you're fired.|||that's another silly misconce...\n",
              "                              ...                        \n",
              "8670    ' |||ixfp just because i always think of cats ...\n",
              "8671    'so...if this thread already exists someplace ...\n",
              "8672    'so many questions when i do these things.  i ...\n",
              "8673    'i am very conflicted right now when it comes ...\n",
              "8674    'it has been too long since i have been on per...\n",
              "Name: posts, Length: 8675, dtype: object"
            ]
          },
          "execution_count": 9,
          "metadata": {},
          "output_type": "execute_result"
        }
      ],
      "source": [
        "for i in range(len(df)):\n",
        "  post_temp=df._get_value(i, 'posts')\n",
        "  pattern = re.compile(r'https?://[a-zA-Z0-9./-]*/[a-zA-Z0-9?=_.]*[_0-9.a-zA-Z/-]*')    #to match url links present in the post\n",
        "  post_temp= re.sub(pattern, ' ', post_temp)                                            #to replace that url link with space\n",
        "  df._set_value(i, 'posts',post_temp)\n",
        "\n",
        "df['posts']"
      ]
    },
    {
      "cell_type": "code",
      "execution_count": null,
      "metadata": {
        "colab": {
          "base_uri": "https://localhost:8080/"
        },
        "id": "2XDRSFwhBuww",
        "outputId": "ecd3ee72-3e04-41a1-c78f-6895e3413820"
      },
      "outputs": [
        {
          "data": {
            "text/plain": [
              "0        enfp and intj moments sportscenter not top te...\n",
              "1        i m finding the lack of me in these posts ver...\n",
              "2        good one       of course to which i say i kno...\n",
              "3        dear intp i enjoyed our conversation the othe...\n",
              "4        you re fired that s another silly misconcepti...\n",
              "                              ...                        \n",
              "8670     ixfp just because i always think of cats as f...\n",
              "8671     so if this thread already exists someplace el...\n",
              "8672     so many questions when i do these things i wo...\n",
              "8673     i am very conflicted right now when it comes ...\n",
              "8674     it has been too long since i have been on per...\n",
              "Name: posts, Length: 8675, dtype: object"
            ]
          },
          "execution_count": 10,
          "metadata": {},
          "output_type": "execute_result"
        }
      ],
      "source": [
        "for i in range(len(df)):\n",
        "  post_temp=df._get_value(i, 'posts')\n",
        "  pattern = re.compile(r'[0-9]')                                    #to match numbers from 0 to 9\n",
        "  post_temp= re.sub(pattern, ' ', post_temp)                        #to replace them with space\n",
        "  pattern = re.compile('\\W+')                                       #to match alphanumeric characters\n",
        "  post_temp= re.sub(pattern, ' ', post_temp)                        #to replace them with space\n",
        "  pattern = re.compile(r'[_+]')                 #to remve underscore and + sign\n",
        "  post_temp= re.sub(pattern, ' ', post_temp)\n",
        "  df._set_value(i, 'posts',post_temp)\n",
        "\n",
        "df['posts']"
      ]
    },
    {
      "cell_type": "code",
      "execution_count": null,
      "metadata": {
        "colab": {
          "base_uri": "https://localhost:8080/"
        },
        "id": "Yyf9FdGhBzOx",
        "outputId": "5ef9c9a4-1c8b-40ef-b397-faa4f8432c1f"
      },
      "outputs": [
        {
          "data": {
            "text/plain": [
              "0        enfp and intj moments sportscenter not top te...\n",
              "1        i m finding the lack of me in these posts ver...\n",
              "2        good one of course to which i say i know that...\n",
              "3        dear intp i enjoyed our conversation the othe...\n",
              "4        you re fired that s another silly misconcepti...\n",
              "                              ...                        \n",
              "8670     ixfp just because i always think of cats as f...\n",
              "8671     so if this thread already exists someplace el...\n",
              "8672     so many questions when i do these things i wo...\n",
              "8673     i am very conflicted right now when it comes ...\n",
              "8674     it has been too long since i have been on per...\n",
              "Name: posts, Length: 8675, dtype: object"
            ]
          },
          "execution_count": 11,
          "metadata": {},
          "output_type": "execute_result"
        }
      ],
      "source": [
        "for i in range(len(df)):\n",
        "  post_temp=df._get_value(i, 'posts')\n",
        "  pattern = re.compile('\\s+')                                     #to match multiple whitespaces\n",
        "  post_temp= re.sub(pattern, ' ', post_temp)                      #to replace them with single whitespace\n",
        "  df._set_value(i, 'posts', post_temp)\n",
        "\n",
        "df['posts']"
      ]
    },
    {
      "cell_type": "markdown",
      "source": [
        "# to remove stop words"
      ],
      "metadata": {
        "id": "rj3CdzUz_uYz"
      }
    },
    {
      "cell_type": "code",
      "execution_count": null,
      "metadata": {
        "colab": {
          "base_uri": "https://localhost:8080/"
        },
        "id": "mFd6Fp04C99L",
        "outputId": "91d413ec-32f3-4801-a353-f03752d3c0da"
      },
      "outputs": [
        {
          "name": "stderr",
          "output_type": "stream",
          "text": [
            "[nltk_data] Downloading package stopwords to /root/nltk_data...\n",
            "[nltk_data]   Unzipping corpora/stopwords.zip.\n"
          ]
        },
        {
          "data": {
            "text/plain": [
              "True"
            ]
          },
          "execution_count": 12,
          "metadata": {},
          "output_type": "execute_result"
        }
      ],
      "source": [
        "import nltk\n",
        "nltk.download('stopwords')"
      ]
    },
    {
      "cell_type": "code",
      "execution_count": null,
      "metadata": {
        "colab": {
          "base_uri": "https://localhost:8080/"
        },
        "id": "6eO1MhneB2a0",
        "outputId": "7d26ad98-3e5d-4679-9f8f-d807fdc7d6d7"
      },
      "outputs": [
        {
          "data": {
            "text/plain": [
              "0        enfp intj moments sportscenter top ten plays ...\n",
              "1        finding lack posts alarming sex boring positi...\n",
              "2        good one course say know blessing curse absol...\n",
              "3        dear intp enjoyed conversation day esoteric g...\n",
              "4        fired another silly misconception approaching...\n",
              "                              ...                        \n",
              "8670     ixfp always think cats fi doms reason especia...\n",
              "8671     thread already exists someplace else post hec...\n",
              "8672     many questions things would take purple pill ...\n",
              "8673     conflicted right comes wanting children hones...\n",
              "8674     long since personalitycafe although seem chan...\n",
              "Name: posts, Length: 8675, dtype: object"
            ]
          },
          "execution_count": 13,
          "metadata": {},
          "output_type": "execute_result"
        }
      ],
      "source": [
        "remove_words = stopwords.words(\"english\")\n",
        "for i in range(df.shape[0]):\n",
        "  post_temp= df._get_value(i, 'posts')\n",
        "  post_temp=\" \".join([w for w in post_temp.split(' ') if w not in remove_words])    #to remove stopwords\n",
        "  df._set_value(i, 'posts', post_temp)\n",
        "\n",
        "df['posts']"
      ]
    },
    {
      "cell_type": "code",
      "execution_count": null,
      "metadata": {
        "id": "Ey574vdYB7AY"
      },
      "outputs": [],
      "source": [
        "lemmatizer = WordNetLemmatizer()"
      ]
    },
    {
      "cell_type": "code",
      "execution_count": null,
      "metadata": {
        "colab": {
          "base_uri": "https://localhost:8080/"
        },
        "id": "UP1QkSwoDS3v",
        "outputId": "e4a1a887-d410-4a8c-d7cc-c41a3f33cd61"
      },
      "outputs": [
        {
          "name": "stderr",
          "output_type": "stream",
          "text": [
            "[nltk_data] Downloading package wordnet to /root/nltk_data...\n"
          ]
        },
        {
          "data": {
            "text/plain": [
              "True"
            ]
          },
          "execution_count": 15,
          "metadata": {},
          "output_type": "execute_result"
        }
      ],
      "source": [
        "nltk.download('wordnet')"
      ]
    },
    {
      "cell_type": "code",
      "execution_count": null,
      "metadata": {
        "colab": {
          "base_uri": "https://localhost:8080/"
        },
        "id": "YuKnlbeQB_iQ",
        "outputId": "f00d1d51-e0d4-474e-942a-58e3919abe75"
      },
      "outputs": [
        {
          "data": {
            "text/plain": [
              "0        enfp intj moment sportscenter top ten play pr...\n",
              "1        finding lack post alarming sex boring positio...\n",
              "2        good one course say know blessing curse absol...\n",
              "3        dear intp enjoyed conversation day esoteric g...\n",
              "4        fired another silly misconception approaching...\n",
              "                              ...                        \n",
              "8670     ixfp always think cat fi doms reason especial...\n",
              "8671     thread already exists someplace else post hec...\n",
              "8672     many question thing would take purple pill pi...\n",
              "8673     conflicted right come wanting child honestly ...\n",
              "8674     long since personalitycafe although seem chan...\n",
              "Name: posts, Length: 8675, dtype: object"
            ]
          },
          "execution_count": 16,
          "metadata": {},
          "output_type": "execute_result"
        }
      ],
      "source": [
        "for i in range(df.shape[0]):\n",
        "  post_temp=df._get_value(i, 'posts')\n",
        "  post_temp=\" \".join([lemmatizer.lemmatize(w) for w in post_temp.split(' ')])   #to implement lemmetization i.e. to group together different forms of a word\n",
        "  df._set_value(i, 'posts', post_temp)\n",
        "\n",
        "df['posts']"
      ]
    },
    {
      "cell_type": "code",
      "execution_count": null,
      "metadata": {
        "colab": {
          "base_uri": "https://localhost:8080/"
        },
        "id": "IziVAQH-CB7V",
        "outputId": "dc2ebf22-da03-4908-f2e5-f8bacf814a7d"
      },
      "outputs": [
        {
          "data": {
            "text/plain": [
              "array([' enfp intj moment sportscenter top ten play prank life changing experience life repeat today may perc experience immerse last thing infj friend posted facebook committing suicide next day rest peace hello enfj sorry hear distress natural relationship perfection time every moment existence try figure hard time time growth welcome stuff game set match prozac wellbrutin least thirty minute moving leg mean moving sitting desk chair weed moderation maybe try edible healthier alternative basically come three item determined type whichever type want would likely use given type cognitive function whatnot left thing moderation sims indeed video game good one note good one somewhat subjective completely promoting death given sim dear enfp favorite video game growing current favorite video game cool appears late sad someone everyone wait thought confidence good thing cherish time solitude b c revel within inner world whereas time workin enjoy time worry people always around yo entp lady complimentary personality well hey main social outlet xbox live conversation even verbally fatigue quickly really dig part banned thread requires get high backyard roast eat marshmellows backyard conversing something intellectual followed massage kiss banned many b sentence could think b banned watching movie corner dunce banned health class clearly taught nothing peer pressure banned whole host reason two baby deer left right munching beetle middle using blood two caveman diary today latest happening designated cave diary wall see pokemon world infj society everyone becomes optimist artist artist draw idea count forming something like signature welcome robot rank person downed self esteem cuz avid signature artist like proud banned taking room bed ya gotta learn share roach banned much thundering grumbling kind storm yep ahh old high school music heard age failed public speaking class year ago sort learned could better position big part failure overloading like person mentality confirmed intj way move denver area start new life ',\n",
              "       ' finding lack post alarming sex boring position often example girlfriend currently environment creatively use cowgirl missionary enough giving new meaning game theory hello entp grin take converse flirting acknowledge presence return word smooth wordplay cheeky grin lack balance hand eye coordination real iq test score internet iq test funny score higher like former response thread mention believe iq test banish know entp vanish site year half return find people still commenting post liking idea thought know entp think thing sometimes go old sherlock holmes quote perhaps man special knowledge special power like rather encourages seek complex cheshirewolf tumblr com post really never thought e j p real function judge use use ne ti dominates fe emotion rarely si also use ni due strength know though ingenious saying really want try see happens playing first person shooter back drive around want see look rock paper one best make lol guy lucky really high tumblr system hear new first person shooter game rocking hell soundtrack auto sound equipment shake heaven managed put couple p way connected thing ne ne dominates aware environment se dominates example shawn spencer patrick jane entps well charlie first admit get jealous like chalk w heart mixed dominate w like noticed like known upload clip mic away mouth hear anything ninja assassin style splatter tik tok really great song long mental block singer love beat make bounce drop io v swck mic really close mouth smokin ace assassin ball playing background sociable extrovert extrovert sociable sherlock movie entp normally played extj book estj said movie looked good except called sherlock holmes oh never fear kissing guy kiss animal nothing vanish personal taste liking guy kissed know one sound pretty much like area going right trying figure way want take life want many thing biggest problem know operating impression female never looked boxy okay help gay friend time one developed little crush get red described living worst nightmare trapped one place one one around dull wood serial killer would perfect place sadly tbh biased sound like shadowed infp think maybe hurt turned estj tell typical infp trait left check list sorry seems came bad time already reached quota infjs however female like female make deal kick one antp leaning toward e easy entps intps identify also imagine entp interrogation would go little bit like jack except mechanical rigging shock treatment equipment abandoned building old car batty jumper compliment trust psychopathic except emoticon weird one like laughing get hurt people running lawn mower photobucket com album zz kamioo thunderstormbw png like theme live know heart usual leave thing end mean time time work thing work mine mbp pleasure meet damn need trust instinct would closer going say infp exfp leaning toward way responded friend even gay lesbian one always come advice bow entp master entps great entps able build building duck duck duck shotgun never hard sad losing someone like knew right give big pat back awesome always correct oh tell stupid know play make laugh going take neuropsychology psychologist nightowl wake pm stay awake till personal opinion backed theory would suggest intps socially difficult intjs socially indifferent also use social situation need arises personal stock desktop downloaded random stock site stock photobuckets tell open photoshop glad like static thanks made friend several hour work constructed every line static get avatar later one fellow teammate psychologist keep around long enough diagnosis like toy diagnosis psychologist friend friend tell ',\n",
              "       ' good one course say know blessing curse absolutely positive best friend could amazing couple count yes could madly love case reconciled feeling thank link called ti si loop stem current topic obsession deadly like stuck thought mind wanders circle feel truly terrible noticed peculiar vegetation look grass dozen different plant specie imagine hundred year later soil smith never one ever often find spotting face marble tile wood year old sentence incredibly accurate beautiful description visited website last year whoever read maybe even remembers highly doubt hi sit garden pm writing song sing together dozen cricket playing acoustic guitar intp ish thread ever seen able look painting entire life knew picked human drawing background animation working right mar felt obligated make mark watneyx postcard read book started make comic turtle gordon unicorn chime see two first story intj recently started post comic two friend turtle gordon unicorn chime posted stuff interested try include work probably could work together new model expert abrupt explosion laughter upon various weird stuff happens peculiar sense humor peculiar much hellooo nah touch everyone think scared sad true fact absolutely neutral face kitten actually really like patting hug well kind already mentioned sometimes ni hard convey complex stuff pop head whimsical compilation shape picture word think kitten would appropriate good night everyone even someone morning right night always supersede morning people say good night order meet next day oh movie awesome thank hope good sleep air anyway wishing good night next night ahead hopefully land good people deserve good well people may wondering issue name topic find response helpful anyway finally someone mentioned still see creature face maze various random pattern amusing sometimes handy skill bored oh know pity sacrifice whole supermarket decide walmart best think biggest one would great yippy go think fire delicious sacrifice tofu like waste food think creator thread care going year heh understand given language yes adventure time get angry quite rarely safer surrounding people go somewhere else impossible hide suppress anger way get rid feeling burst never liked anything fake bad actually hug given chosen one chosen quite though yup right course comfortable human race survived thankfully woman ability give birth human being worked thousand year change besides happens occurs often people use result extremely precise elaborate online test basis determining one type visual language art study graphic design really enjoy interesting field ability generate idea solve problem much important possession specific alexxxandra deviantart always ready discipline intimidate precise sibling offender world domination shooting people head oh right intjs always must characterised word want show badly reaction istp ',\n",
              "       ...,\n",
              "       ' many question thing would take purple pill pick winning lottery number whatever want worked brewery couple year dont know familiar local micros craft mill st name tankhouse favorite anything local going summon great powerful mr cafebot song destruction four horseman ride count day people earth intro nick intp male basement thread obviously textbook definition manliness ruffin tuffin going hard mother fking paint stand asked time approved say oh shit short staffed badger figure asked arn lol excellent thread nt dc love watching baseball playing oh hate yankee multiple partner consider manly man lift intp thing relationship spend little time bedroom compared everything else dumb blonde make happy minute night going take thinking man plant fruit tree give food year feeling year later squirrel hungry eats fruit tree intuitive man see well think appreciate einstein quote everyone genius judge fish abiility climb tree live whole life believing stupid everybody vsauce real men write poetry oh mountain dew release mountain flavored doritos locos taco skateboard also amp feature youtu check still two thing certain rusell brand heavilly extraverted magical man people badger gonna make male version intp video today creative process intps getting around thing putting think always ready work provided sleep food stomach may look busy hear everything guy like making video love part hey man life try yes know intp conversation head real people tl dr yes posted spoken like true intp really bothered believe think tell boyfriend said morality invariably get talking philosophy tangable answer good subject include evolution hunter gatherer society political system good movie hey b th read post immediate reaction boyfriend flipping something insignificant trust issue nothing wag finger think idea enjoy darkbarlow post crush ya maybe self defense really crime would kill somebody save people million dollar thirty year later could come conclusion woman indisputably better men gentler affectionate loving compassionate rarely really make clear cut method differentiating two intp lazy useless thing reason often disastrous result basically lack thing make using adblocker p ask analytical type tell want see le advertising help better hahahaha mango thread chameleon skill thing mirror mood personality others chameleon skill make wonder true free human without either well know sure wrong exist obviously prove problem first word post watching news tv news entertainment journalism resent thought human nothing selfish creature selfless accomplished whim fulfillment life often come form giving others solfonny yup basically lol suicide permanent solution non permanent problem selfish cause pain burden family rest life thinking could considered lol woman easy seriously day every intp adderal would live utopia noon repeat mantra self aware reject idea come god camus declares human exist nothing change choice get pissed give revolt fact absurd man without negating nothing eternal nostalgia foreign prefers courage reasoning first teach need elbow past people hurry potentially miss train door closing otherwise want first train bus get stuck behind crowd slow walker loaded question still strongly believing non belief internet police restrain trolling intp ',\n",
              "       ' conflicted right come wanting child honestly maternal instinct whatsoever recently none close friend child guess closest friend isfj esfp istj xnfp esfj know correct know know type actually xnfp said last paragraph teacher frustrates trend education combine class contain variety type student say much trouble community general mean talking age peer never considered popular artsy extracurricular eat meat feel guilty vaguely considered eating meat think could actually nutritional requirement need high protein diet well boat except teach science theater know people think science infp find interesting good another career exactly god truly created one man one woman technically created woman man product incest per book stayed list going around facebook choice following special order reader bernhard schlink interpreter malady jhumpa amazing list partially posting sure find need idea listen list long others pretty another point infp type known idealist heard theory procrastination say come person setting high standard mind ideal perhaps well bit impulse control feeling calm one else going feel calm cute think stereotype think eleanor roosevelt may infp google classified enfp read biography actually seems like introvert forced know much subtypes wow definitely teacher first time read thought yeah way reading carefully second time almost perfectly list interest hobby generally like read lot tell later though sometimes work get busy also enjoy writing come burst go well help gay thing sorry however commiserate part waiting someone text back feeling like power oh wow totally situation right treated poorly opposite problem seem find courage stand ground think cry much mom think pretty sure think clinically depressed even though mean pretty sure cry bit lol well feel dumb work see thanks alcohol actually change base personality easy change mbti valid alcohol make say thing would absent site couple month since back couple week ago whenever try create thread like right reply thread unable create new also sorry huge long single paragraph reason window let create new paragraph attempting fix eggsies thanks reply perspective cheating thing interesting never really thought way especially beginning perhaps make good point infp forum conversation like getting gift agreed lot thing however terrible gift giver anyone different taste always good math never enjoyed math fair slightly f opposed function also say math methodical ok mr enfj conundrum dating enfj since january busy schedule able spend little time love bike use one recreation actual transportation might bike weekend evening errand weather nice except right live steep hill never make clinically diagnosed adhd reading extensively talking mom behavior kid found wanted take psychologist dad yoga clothes tight black capri pink purple tank tear movie sometimes generally cry hard exception movie version book read like harry potter believe two hour usually unfortunately kind read lot book fiction working night circus erin morgenstern almost done dovekeepers alice hoffman also reading little ambivalent book made movie many favorite book literary enough movie version would atrocious couple agree finish dark could read point without replying may physically alone someone hearing posted thread fear may belong curiosity someone desperately wanted meet need know would tell person would even know ask well never read book seen loosely based movie see saying thought fully convinced case greatly appreciate input boxerkitty said enfjs need socialize wide set people time unwind make feel somewhat better one thing would love person choose spend life assuming find someone choose spend life similar point made completely agreed madrabbit exception pursuing answer never find possibly exist go cycle get frustrated give decide stop yeah hear know really complicated wish seems way mind one entirely know bring without using word marriage know sure enfj seems far likely thought post advice enfjs difficulty relationship something bugging week thought would post people seem get think thing way seeing original post title anything go totally relate almost posted similar thread able trust relationship day ago desire control others kind freak feel like control feeling situation let explain desire tell someone else others mentioned feel really guilty spend lot money spa type thing feel like could putting somewhere useful especially since make ton sad angry pathetic embarrassed love oh definitely definitely stem combination number thing occurred life biggest overall factor form attachment incredibly easy seems really hoping since referred break letter long distance relationship seriously even face person tell feel honestly see point saying letter like change imagine anyone said voted intp closer e ok thing sort issue test took quiz got entertainer one think really type reason describe two yeah definitely get jealous come romantic relationship honest many serious romantic relationship part reason though certainly wait leafstone third volume q book originally split japanese another language spent entire week beach book finish finished since ',\n",
              "       ' long since personalitycafe although seem changed one bit must say good back somewhere like usually turn doctor overwhelmed world around one dream chased large shadowy creature someone else felt save else dream ended reached safety happened well avatar doctor clockwork creature always liked monster worker trying job kind st thanks reply appreciate help get nd think everyone right opinion however many people abuse right p yea iron man thing xd thanks advice everyone thanks think needed humour might show maybe know anything harsh like throw beat although place go really really know judge personality type say mum introverted dad extroverted p ok understand want feel liking men good problem tell parent want tell really know say contempt always suppose spent afternoon buried book world spending morning animal suppose good mix whats hardest thing going face life got clue current perspective telling parent gay seems like huge hurdle suspect seem mi torchwood oh fictional oh well still got book two day ago read thought brilliant true family love never wanted deeply understand contempt keeping deeper self different people see look understand knowing important much know also happy let anything get lately feel better either guess watching comedy central amp feature plcp incredible song thanks reply relate part least big deal may made reply pointing well something along line feel although ever entered state mind time need emotion sake sometimes think young time live life find parent never happy effort give anything say used quite lazy lately tried best everything ask without hassle hey spoiler button still pre load image matter best driver currently hold restricted licence drive safely tell parent speed open road one around let someone tell belief wrong think right true people may agree make belief wrong mean midnight blue question many thing feel contrasting may see dark shade blue fact story behind every line magnificent fine ad make website know sometimes need reccomendation though make open new window clicked target top yes want people understand people anyway think matter could understand many people care really fully interested know infjs idea letting people life keeping distance personaly people let world let one bothered personally actually sometimes actually think realize obvious others might feel see good someone hang around happens chance notice accident good disappearing want see library walk somewhere remote alone agree although black white person outside anyway website need colour bright black help defiantly night person doubt enjoy late sleeping half day away say lost balance knew exactly feel say similar place right lost thing really keep going balance world spinning look good think top navigation bar news would look better darker colour white seems bright would tenth way actually capt jack going say doctor thought second thing seemed appropriate apart tardis would get car drive stopping enjoy thanks solitude right like constructive criticism something work improve guess upset little feel people criticize work something whenever someone tell something done good enough make feel like good enough maybe yes owner lonely heart doctor fan say repeated memory wipe silence eventually fry brain eleventh doctor remember people currently reading white wolf son good read quite expected picked finish soon next want read wolf gift tonight sit outside window blackness night staring wilderness call space peace beauty could stay till morning light thousand sun stare upon going close facebook month back well wanting able message family ausse school friend found connected website second mar collection seems fitting mood right seen agree actually think first time watched movie beginning got power kinda thought andrew would never work right ok watched underworld awakening must say really good film compared film last month anyway think good first would never want turn emotion sometimes hide world still need '],\n",
              "      dtype=object)"
            ]
          },
          "execution_count": 17,
          "metadata": {},
          "output_type": "execute_result"
        }
      ],
      "source": [
        "#separating data and label\n",
        "\n",
        "X_conv=df['posts'].values #post column in X  post column\n",
        "Y= df['type'].values  #type variable in Y personality column\n",
        "\n",
        "X_conv"
      ]
    },
    {
      "cell_type": "markdown",
      "source": [
        "# Feature Engineering"
      ],
      "metadata": {
        "id": "Gr6xoeV4-ReG"
      }
    },
    {
      "cell_type": "code",
      "execution_count": null,
      "metadata": {
        "colab": {
          "base_uri": "https://localhost:8080/"
        },
        "id": "yN_OFGeSCI9s",
        "outputId": "c1dd853a-373e-489e-9843-90891fc7dc27"
      },
      "outputs": [
        {
          "name": "stdout",
          "output_type": "stream",
          "text": [
            "  (0, 4982)\t0.07370402596465524\n",
            "  (0, 4979)\t0.05565020509541055\n",
            "  (0, 4975)\t0.022652796699206626\n",
            "  (0, 4970)\t0.059319403317236\n",
            "  (0, 4937)\t0.04614771553807196\n",
            "  (0, 4934)\t0.05358869998240537\n",
            "  (0, 4872)\t0.0860112694798825\n",
            "  (0, 4867)\t0.0793399982616137\n",
            "  (0, 4859)\t0.06966220475743416\n",
            "  (0, 4847)\t0.01890613058310806\n",
            "  (0, 4844)\t0.04248668662842222\n",
            "  (0, 4827)\t0.01952039174746034\n",
            "  (0, 4822)\t0.05489149797678041\n",
            "  (0, 4815)\t0.04439550668242666\n",
            "  (0, 4782)\t0.1153357957971278\n",
            "  (0, 4773)\t0.07993795381472812\n",
            "  (0, 4739)\t0.0410182717193756\n",
            "  (0, 4733)\t0.028530060273921944\n",
            "  (0, 4659)\t0.062148595625559494\n",
            "  (0, 4643)\t0.04866987556674918\n",
            "  (0, 4553)\t0.07391926718610996\n",
            "  (0, 4541)\t0.10460090748425933\n",
            "  (0, 4517)\t0.025198268414157874\n",
            "  (0, 4514)\t0.021552410690005592\n",
            "  (0, 4509)\t0.09110200505411986\n",
            "  :\t:\n",
            "  (8674, 438)\t0.040240488155563234\n",
            "  (8674, 435)\t0.03900687681646797\n",
            "  (8674, 421)\t0.07784139450836441\n",
            "  (8674, 415)\t0.04421563900019876\n",
            "  (8674, 408)\t0.048353561606591586\n",
            "  (8674, 403)\t0.0456705962472745\n",
            "  (8674, 375)\t0.050349238023005526\n",
            "  (8674, 365)\t0.09647700103136977\n",
            "  (8674, 344)\t0.025384092543563736\n",
            "  (8674, 333)\t0.04018345329746705\n",
            "  (8674, 263)\t0.025517626666445914\n",
            "  (8674, 232)\t0.05622419160468198\n",
            "  (8674, 226)\t0.035209048762986146\n",
            "  (8674, 204)\t0.046829086521529284\n",
            "  (8674, 179)\t0.0387987452323351\n",
            "  (8674, 163)\t0.05999820771688093\n",
            "  (8674, 108)\t0.06678466139427357\n",
            "  (8674, 107)\t0.02648461367098222\n",
            "  (8674, 99)\t0.06278227559163599\n",
            "  (8674, 86)\t0.031227107874542293\n",
            "  (8674, 55)\t0.061127681414246626\n",
            "  (8674, 54)\t0.071353161548187\n",
            "  (8674, 25)\t0.06088155444637389\n",
            "  (8674, 14)\t0.057426001926641344\n",
            "  (8674, 3)\t0.02714806023915666\n"
          ]
        }
      ],
      "source": [
        "#converting textual data to numerical data\n",
        "\n",
        "#idf stands for inverse document frequency repeating words which are not important for the model\n",
        "\n",
        "vectorizer=TfidfVectorizer(max_features=5000,stop_words='english')  #no of times a word is repeating in a document so repetition tells the model that word is very important so it assigns a value to it\n",
        "\n",
        "vectorizer.fit(X_conv)\n",
        "\n",
        "X_new=vectorizer.transform(X_conv)  #conversion of values to respective features\n",
        "\n",
        "## (0 is the index and 15686 are the no of rows) 0.284 is he feature importance of that particular word in the document\n",
        "\n",
        "print(X_new)"
      ]
    },
    {
      "cell_type": "markdown",
      "metadata": {
        "id": "nobH48-wCQjk"
      },
      "source": [
        "# KFold **Validation**"
      ]
    },
    {
      "cell_type": "code",
      "execution_count": null,
      "metadata": {
        "colab": {
          "base_uri": "https://localhost:8080/"
        },
        "id": "0mt_-9YXCWYs",
        "outputId": "cdddf6c7-14ab-4d5d-df50-6d5599bf0e5f"
      },
      "outputs": [
        {
          "data": {
            "text/plain": [
              "StratifiedKFold(n_splits=10, random_state=None, shuffle=False)"
            ]
          },
          "execution_count": 19,
          "metadata": {},
          "output_type": "execute_result"
        }
      ],
      "source": [
        "from sklearn.model_selection import StratifiedKFold #divide each of the classification categories in a uniform way\n",
        "folds = StratifiedKFold(n_splits=10)\n",
        "folds"
      ]
    },
    {
      "cell_type": "code",
      "execution_count": null,
      "metadata": {
        "id": "klr440mjDrFS"
      },
      "outputs": [],
      "source": [
        "for train_index, test_index in folds.split(X, y):\n",
        "    # Split your dataset into training and testing sets for this fold\n",
        "    X_new_train, X_new_test = X_new[train_index], X_new[test_index]\n",
        "    Y_train, Y_test = Y[train_index], Y[test_index]"
      ]
    },
    {
      "cell_type": "code",
      "execution_count": null,
      "metadata": {
        "id": "ufNDG7sUDtqW"
      },
      "outputs": [],
      "source": [
        "from sklearn.model_selection import cross_val_score"
      ]
    },
    {
      "cell_type": "markdown",
      "metadata": {
        "id": "2XI3HIJUEMfv"
      },
      "source": [
        "# 1. Logistic **Regression**"
      ]
    },
    {
      "cell_type": "code",
      "execution_count": null,
      "metadata": {
        "colab": {
          "base_uri": "https://localhost:8080/",
          "height": 75
        },
        "id": "n_1exom7D_L_",
        "outputId": "6ff07d9c-8b94-4ff8-c4d6-c7a6486f3048"
      },
      "outputs": [
        {
          "data": {
            "text/html": [
              "<style>#sk-container-id-1 {color: black;background-color: white;}#sk-container-id-1 pre{padding: 0;}#sk-container-id-1 div.sk-toggleable {background-color: white;}#sk-container-id-1 label.sk-toggleable__label {cursor: pointer;display: block;width: 100%;margin-bottom: 0;padding: 0.3em;box-sizing: border-box;text-align: center;}#sk-container-id-1 label.sk-toggleable__label-arrow:before {content: \"▸\";float: left;margin-right: 0.25em;color: #696969;}#sk-container-id-1 label.sk-toggleable__label-arrow:hover:before {color: black;}#sk-container-id-1 div.sk-estimator:hover label.sk-toggleable__label-arrow:before {color: black;}#sk-container-id-1 div.sk-toggleable__content {max-height: 0;max-width: 0;overflow: hidden;text-align: left;background-color: #f0f8ff;}#sk-container-id-1 div.sk-toggleable__content pre {margin: 0.2em;color: black;border-radius: 0.25em;background-color: #f0f8ff;}#sk-container-id-1 input.sk-toggleable__control:checked~div.sk-toggleable__content {max-height: 200px;max-width: 100%;overflow: auto;}#sk-container-id-1 input.sk-toggleable__control:checked~label.sk-toggleable__label-arrow:before {content: \"▾\";}#sk-container-id-1 div.sk-estimator input.sk-toggleable__control:checked~label.sk-toggleable__label {background-color: #d4ebff;}#sk-container-id-1 div.sk-label input.sk-toggleable__control:checked~label.sk-toggleable__label {background-color: #d4ebff;}#sk-container-id-1 input.sk-hidden--visually {border: 0;clip: rect(1px 1px 1px 1px);clip: rect(1px, 1px, 1px, 1px);height: 1px;margin: -1px;overflow: hidden;padding: 0;position: absolute;width: 1px;}#sk-container-id-1 div.sk-estimator {font-family: monospace;background-color: #f0f8ff;border: 1px dotted black;border-radius: 0.25em;box-sizing: border-box;margin-bottom: 0.5em;}#sk-container-id-1 div.sk-estimator:hover {background-color: #d4ebff;}#sk-container-id-1 div.sk-parallel-item::after {content: \"\";width: 100%;border-bottom: 1px solid gray;flex-grow: 1;}#sk-container-id-1 div.sk-label:hover label.sk-toggleable__label {background-color: #d4ebff;}#sk-container-id-1 div.sk-serial::before {content: \"\";position: absolute;border-left: 1px solid gray;box-sizing: border-box;top: 0;bottom: 0;left: 50%;z-index: 0;}#sk-container-id-1 div.sk-serial {display: flex;flex-direction: column;align-items: center;background-color: white;padding-right: 0.2em;padding-left: 0.2em;position: relative;}#sk-container-id-1 div.sk-item {position: relative;z-index: 1;}#sk-container-id-1 div.sk-parallel {display: flex;align-items: stretch;justify-content: center;background-color: white;position: relative;}#sk-container-id-1 div.sk-item::before, #sk-container-id-1 div.sk-parallel-item::before {content: \"\";position: absolute;border-left: 1px solid gray;box-sizing: border-box;top: 0;bottom: 0;left: 50%;z-index: -1;}#sk-container-id-1 div.sk-parallel-item {display: flex;flex-direction: column;z-index: 1;position: relative;background-color: white;}#sk-container-id-1 div.sk-parallel-item:first-child::after {align-self: flex-end;width: 50%;}#sk-container-id-1 div.sk-parallel-item:last-child::after {align-self: flex-start;width: 50%;}#sk-container-id-1 div.sk-parallel-item:only-child::after {width: 0;}#sk-container-id-1 div.sk-dashed-wrapped {border: 1px dashed gray;margin: 0 0.4em 0.5em 0.4em;box-sizing: border-box;padding-bottom: 0.4em;background-color: white;}#sk-container-id-1 div.sk-label label {font-family: monospace;font-weight: bold;display: inline-block;line-height: 1.2em;}#sk-container-id-1 div.sk-label-container {text-align: center;}#sk-container-id-1 div.sk-container {/* jupyter's `normalize.less` sets `[hidden] { display: none; }` but bootstrap.min.css set `[hidden] { display: none !important; }` so we also need the `!important` here to be able to override the default hidden behavior on the sphinx rendered scikit-learn.org. See: https://github.com/scikit-learn/scikit-learn/issues/21755 */display: inline-block !important;position: relative;}#sk-container-id-1 div.sk-text-repr-fallback {display: none;}</style><div id=\"sk-container-id-1\" class=\"sk-top-container\"><div class=\"sk-text-repr-fallback\"><pre>LogisticRegression(max_iter=1000)</pre><b>In a Jupyter environment, please rerun this cell to show the HTML representation or trust the notebook. <br />On GitHub, the HTML representation is unable to render, please try loading this page with nbviewer.org.</b></div><div class=\"sk-container\" hidden><div class=\"sk-item\"><div class=\"sk-estimator sk-toggleable\"><input class=\"sk-toggleable__control sk-hidden--visually\" id=\"sk-estimator-id-1\" type=\"checkbox\" checked><label for=\"sk-estimator-id-1\" class=\"sk-toggleable__label sk-toggleable__label-arrow\">LogisticRegression</label><div class=\"sk-toggleable__content\"><pre>LogisticRegression(max_iter=1000)</pre></div></div></div></div></div>"
            ],
            "text/plain": [
              "LogisticRegression(max_iter=1000)"
            ]
          },
          "execution_count": 22,
          "metadata": {},
          "output_type": "execute_result"
        }
      ],
      "source": [
        "#training model logistic regression\n",
        "model_log = LogisticRegression(max_iter=1000)\n",
        "model_log.fit(X_new_train, Y_train)"
      ]
    },
    {
      "cell_type": "code",
      "execution_count": null,
      "metadata": {
        "id": "-geOKnVYEVdM"
      },
      "outputs": [],
      "source": [
        "pred_log = model_log.predict(X_new_test)"
      ]
    },
    {
      "cell_type": "code",
      "execution_count": null,
      "metadata": {
        "colab": {
          "base_uri": "https://localhost:8080/"
        },
        "id": "mVuVqG7FEYup",
        "outputId": "c8d6c187-761d-436a-a1cf-89f9f4863abb"
      },
      "outputs": [
        {
          "name": "stdout",
          "output_type": "stream",
          "text": [
            "Accuracy score of the training data :  0.7966188524590164\n"
          ]
        }
      ],
      "source": [
        "# accuracy score on the training data\n",
        "X_train_prediction = model_log.predict(X_new_train)\n",
        "training_data_accuracy = accuracy_score(X_train_prediction, Y_train)\n",
        "\n",
        "print('Accuracy score of the training data : ', training_data_accuracy)"
      ]
    },
    {
      "cell_type": "code",
      "execution_count": null,
      "metadata": {
        "colab": {
          "base_uri": "https://localhost:8080/"
        },
        "id": "ORtVspvCErdo",
        "outputId": "37deccfc-6fc4-4558-b897-2ef8316b9ad4"
      },
      "outputs": [
        {
          "name": "stdout",
          "output_type": "stream",
          "text": [
            "Accuracy score of the test data :  0.6528258362168397\n"
          ]
        }
      ],
      "source": [
        "# accuracy score on the test data\n",
        "X_test_prediction = model_log.predict(X_new_test)\n",
        "test_data_accuracy = accuracy_score(X_test_prediction, Y_test)\n",
        "\n",
        "print('Accuracy score of the test data : ', test_data_accuracy)"
      ]
    },
    {
      "cell_type": "code",
      "execution_count": null,
      "metadata": {
        "colab": {
          "base_uri": "https://localhost:8080/"
        },
        "id": "dSNAhMVjEwaf",
        "outputId": "a03e87c4-d4cd-468d-b5d0-60f501ce32d0"
      },
      "outputs": [
        {
          "name": "stdout",
          "output_type": "stream",
          "text": [
            "  (0, 4991)\t0.03971714673604053\n",
            "  (0, 4985)\t0.03373444327368452\n",
            "  (0, 4980)\t0.01704943194759778\n",
            "  (0, 4960)\t0.3339600710673275\n",
            "  (0, 4948)\t0.029316541457871204\n",
            "  (0, 4942)\t0.03438375926284969\n",
            "  (0, 4941)\t0.036477859693501535\n",
            "  (0, 4937)\t0.03341424775267966\n",
            "  (0, 4934)\t0.019401026433029423\n",
            "  (0, 4905)\t0.11922831176501547\n",
            "  (0, 4903)\t0.02610362377887535\n",
            "  (0, 4902)\t0.043853354773014414\n",
            "  (0, 4860)\t0.026418733013202692\n",
            "  (0, 4847)\t0.08213634724700139\n",
            "  (0, 4844)\t0.03076340088863856\n",
            "  (0, 4827)\t0.05653664095600904\n",
            "  (0, 4819)\t0.03428497624319327\n",
            "  (0, 4782)\t0.02783712267286743\n",
            "  (0, 4780)\t0.05543810545014621\n",
            "  (0, 4752)\t0.029375675837587396\n",
            "  (0, 4739)\t0.05940032686936396\n",
            "  (0, 4734)\t0.06230916688150131\n",
            "  (0, 4733)\t0.08263121944619153\n",
            "  (0, 4697)\t0.0381475811187305\n",
            "  (0, 4691)\t0.03211565647755374\n",
            "  :\t:\n",
            "  (0, 344)\t0.023454800613825967\n",
            "  (0, 309)\t0.04759083617706592\n",
            "  (0, 296)\t0.0570699919032553\n",
            "  (0, 277)\t0.0564244721643152\n",
            "  (0, 252)\t0.03973125093952038\n",
            "  (0, 251)\t0.03257169690143403\n",
            "  (0, 229)\t0.03853700586934066\n",
            "  (0, 209)\t0.047321316676586636\n",
            "  (0, 197)\t0.036542512596206014\n",
            "  (0, 178)\t0.034010906146759494\n",
            "  (0, 169)\t0.045750399323429454\n",
            "  (0, 164)\t0.06246633579200324\n",
            "  (0, 153)\t0.032861859395297656\n",
            "  (0, 118)\t0.05497388774567802\n",
            "  (0, 113)\t0.03765130340878128\n",
            "  (0, 108)\t0.02056958722444385\n",
            "  (0, 107)\t0.04894335552244144\n",
            "  (0, 97)\t0.03531163398788409\n",
            "  (0, 91)\t0.04177330827596292\n",
            "  (0, 68)\t0.1618684159647637\n",
            "  (0, 54)\t0.01648250941418017\n",
            "  (0, 34)\t0.036201673553954906\n",
            "  (0, 31)\t0.042339090839613715\n",
            "  (0, 19)\t0.03725484800581733\n",
            "  (0, 3)\t0.025084699753153385\n"
          ]
        }
      ],
      "source": [
        "print(X_new_test[200]) #what word was predicted is displayed here here we are shown the numerical values because we have not converted them into scalar form"
      ]
    },
    {
      "cell_type": "code",
      "execution_count": null,
      "metadata": {
        "colab": {
          "base_uri": "https://localhost:8080/"
        },
        "id": "T3Pex6D7Eysi",
        "outputId": "ffc12fca-f88a-4790-bb93-7ea36c361c22"
      },
      "outputs": [
        {
          "name": "stdout",
          "output_type": "stream",
          "text": [
            "['ENTP']\n"
          ]
        }
      ],
      "source": [
        "X_news = X_new_test[4]\n",
        "\n",
        "prediction = model_log.predict(X_new_test[8])\n",
        "print(prediction)"
      ]
    },
    {
      "cell_type": "markdown",
      "metadata": {
        "id": "GIE7ynvrxeJ6"
      },
      "source": [
        "# Calculating overall accuracy for Logistic Regression"
      ]
    },
    {
      "cell_type": "code",
      "execution_count": null,
      "metadata": {
        "colab": {
          "base_uri": "https://localhost:8080/"
        },
        "id": "ip1G-2yJxcrS",
        "outputId": "8e4c2030-f67b-4747-de7f-b14189ef90dd"
      },
      "outputs": [
        {
          "name": "stdout",
          "output_type": "stream",
          "text": [
            "Accuracy: 0.6528258362168397\n"
          ]
        }
      ],
      "source": [
        "# Calculate accuracy\n",
        "accuracy = accuracy_score(Y_test, pred_log)\n",
        "print(f\"Accuracy: {accuracy}\")"
      ]
    },
    {
      "cell_type": "code",
      "execution_count": null,
      "metadata": {
        "colab": {
          "base_uri": "https://localhost:8080/",
          "height": 466
        },
        "id": "J5Ti9WnuE7Eq",
        "outputId": "7e0ca34a-cbd3-4c4a-af52-5a6cc84d0e67"
      },
      "outputs": [
        {
          "data": {
            "text/plain": [
              "Text(77.92222222222227, 0.5, 'Actual')"
            ]
          },
          "execution_count": 29,
          "metadata": {},
          "output_type": "execute_result"
        },
        {
          "data": {
            "image/png": "[encoded data removed]",
            "text/plain": [
              "<Figure size 640x480 with 2 Axes>"
            ]
          },
          "metadata": {},
          "output_type": "display_data"
        }
      ],
      "source": [
        "from sklearn.metrics import classification_report\n",
        "from sklearn.metrics import confusion_matrix\n",
        "matrix_confusion= confusion_matrix(Y_test, pred_log)\n",
        "sns.heatmap(matrix_confusion, square=True, annot=True, cmap='Blues', fmt='d', cbar=True)\n",
        "plt.xlabel('Predicted')\n",
        "plt.ylabel('Actual')"
      ]
    },
    {
      "cell_type": "code",
      "execution_count": null,
      "metadata": {
        "colab": {
          "base_uri": "https://localhost:8080/"
        },
        "id": "G0xKCBk3E-ST",
        "outputId": "bae20319-dda2-4bbb-b6b2-ce4e5935f0a7"
      },
      "outputs": [
        {
          "name": "stdout",
          "output_type": "stream",
          "text": [
            "              precision    recall  f1-score   support\n",
            "\n",
            "        ENFJ       0.40      0.11      0.17        19\n",
            "        ENFP       0.73      0.49      0.59        67\n",
            "        ENTJ       1.00      0.17      0.30        23\n",
            "        ENTP       0.68      0.60      0.64        68\n",
            "        ESFJ       0.00      0.00      0.00         4\n",
            "        ESFP       0.00      0.00      0.00         5\n",
            "        ESTJ       0.00      0.00      0.00         4\n",
            "        ESTP       0.00      0.00      0.00         9\n",
            "        INFJ       0.67      0.73      0.70       147\n",
            "        INFP       0.62      0.85      0.72       183\n",
            "        INTJ       0.63      0.69      0.66       110\n",
            "        INTP       0.64      0.79      0.71       130\n",
            "        ISFJ       1.00      0.47      0.64        17\n",
            "        ISFP       0.64      0.33      0.44        27\n",
            "        ISTJ       1.00      0.30      0.46        20\n",
            "        ISTP       0.68      0.62      0.65        34\n",
            "\n",
            "    accuracy                           0.65       867\n",
            "   macro avg       0.54      0.39      0.42       867\n",
            "weighted avg       0.66      0.65      0.63       867\n",
            "\n"
          ]
        },
        {
          "name": "stderr",
          "output_type": "stream",
          "text": [
            "/usr/local/lib/python3.10/dist-packages/sklearn/metrics/_classification.py:1344: UndefinedMetricWarning: Precision and F-score are ill-defined and being set to 0.0 in labels with no predicted samples. Use `zero_division` parameter to control this behavior.\n",
            "  _warn_prf(average, modifier, msg_start, len(result))\n",
            "/usr/local/lib/python3.10/dist-packages/sklearn/metrics/_classification.py:1344: UndefinedMetricWarning: Precision and F-score are ill-defined and being set to 0.0 in labels with no predicted samples. Use `zero_division` parameter to control this behavior.\n",
            "  _warn_prf(average, modifier, msg_start, len(result))\n",
            "/usr/local/lib/python3.10/dist-packages/sklearn/metrics/_classification.py:1344: UndefinedMetricWarning: Precision and F-score are ill-defined and being set to 0.0 in labels with no predicted samples. Use `zero_division` parameter to control this behavior.\n",
            "  _warn_prf(average, modifier, msg_start, len(result))\n"
          ]
        }
      ],
      "source": [
        "report= classification_report(Y_test, pred_log)\n",
        "print(report)"
      ]
    },
    {
      "cell_type": "markdown",
      "metadata": {
        "id": "szAgRo8bFL-G"
      },
      "source": [
        "# 2. SVM"
      ]
    },
    {
      "cell_type": "code",
      "execution_count": null,
      "metadata": {
        "colab": {
          "base_uri": "https://localhost:8080/",
          "height": 75
        },
        "id": "ennDDk2jFInO",
        "outputId": "55c99b51-bbf0-4d2f-8b12-0fdf2eff7a5a"
      },
      "outputs": [
        {
          "data": {
            "text/html": [
              "<style>#sk-container-id-2 {color: black;background-color: white;}#sk-container-id-2 pre{padding: 0;}#sk-container-id-2 div.sk-toggleable {background-color: white;}#sk-container-id-2 label.sk-toggleable__label {cursor: pointer;display: block;width: 100%;margin-bottom: 0;padding: 0.3em;box-sizing: border-box;text-align: center;}#sk-container-id-2 label.sk-toggleable__label-arrow:before {content: \"▸\";float: left;margin-right: 0.25em;color: #696969;}#sk-container-id-2 label.sk-toggleable__label-arrow:hover:before {color: black;}#sk-container-id-2 div.sk-estimator:hover label.sk-toggleable__label-arrow:before {color: black;}#sk-container-id-2 div.sk-toggleable__content {max-height: 0;max-width: 0;overflow: hidden;text-align: left;background-color: #f0f8ff;}#sk-container-id-2 div.sk-toggleable__content pre {margin: 0.2em;color: black;border-radius: 0.25em;background-color: #f0f8ff;}#sk-container-id-2 input.sk-toggleable__control:checked~div.sk-toggleable__content {max-height: 200px;max-width: 100%;overflow: auto;}#sk-container-id-2 input.sk-toggleable__control:checked~label.sk-toggleable__label-arrow:before {content: \"▾\";}#sk-container-id-2 div.sk-estimator input.sk-toggleable__control:checked~label.sk-toggleable__label {background-color: #d4ebff;}#sk-container-id-2 div.sk-label input.sk-toggleable__control:checked~label.sk-toggleable__label {background-color: #d4ebff;}#sk-container-id-2 input.sk-hidden--visually {border: 0;clip: rect(1px 1px 1px 1px);clip: rect(1px, 1px, 1px, 1px);height: 1px;margin: -1px;overflow: hidden;padding: 0;position: absolute;width: 1px;}#sk-container-id-2 div.sk-estimator {font-family: monospace;background-color: #f0f8ff;border: 1px dotted black;border-radius: 0.25em;box-sizing: border-box;margin-bottom: 0.5em;}#sk-container-id-2 div.sk-estimator:hover {background-color: #d4ebff;}#sk-container-id-2 div.sk-parallel-item::after {content: \"\";width: 100%;border-bottom: 1px solid gray;flex-grow: 1;}#sk-container-id-2 div.sk-label:hover label.sk-toggleable__label {background-color: #d4ebff;}#sk-container-id-2 div.sk-serial::before {content: \"\";position: absolute;border-left: 1px solid gray;box-sizing: border-box;top: 0;bottom: 0;left: 50%;z-index: 0;}#sk-container-id-2 div.sk-serial {display: flex;flex-direction: column;align-items: center;background-color: white;padding-right: 0.2em;padding-left: 0.2em;position: relative;}#sk-container-id-2 div.sk-item {position: relative;z-index: 1;}#sk-container-id-2 div.sk-parallel {display: flex;align-items: stretch;justify-content: center;background-color: white;position: relative;}#sk-container-id-2 div.sk-item::before, #sk-container-id-2 div.sk-parallel-item::before {content: \"\";position: absolute;border-left: 1px solid gray;box-sizing: border-box;top: 0;bottom: 0;left: 50%;z-index: -1;}#sk-container-id-2 div.sk-parallel-item {display: flex;flex-direction: column;z-index: 1;position: relative;background-color: white;}#sk-container-id-2 div.sk-parallel-item:first-child::after {align-self: flex-end;width: 50%;}#sk-container-id-2 div.sk-parallel-item:last-child::after {align-self: flex-start;width: 50%;}#sk-container-id-2 div.sk-parallel-item:only-child::after {width: 0;}#sk-container-id-2 div.sk-dashed-wrapped {border: 1px dashed gray;margin: 0 0.4em 0.5em 0.4em;box-sizing: border-box;padding-bottom: 0.4em;background-color: white;}#sk-container-id-2 div.sk-label label {font-family: monospace;font-weight: bold;display: inline-block;line-height: 1.2em;}#sk-container-id-2 div.sk-label-container {text-align: center;}#sk-container-id-2 div.sk-container {/* jupyter's `normalize.less` sets `[hidden] { display: none; }` but bootstrap.min.css set `[hidden] { display: none !important; }` so we also need the `!important` here to be able to override the default hidden behavior on the sphinx rendered scikit-learn.org. See: https://github.com/scikit-learn/scikit-learn/issues/21755 */display: inline-block !important;position: relative;}#sk-container-id-2 div.sk-text-repr-fallback {display: none;}</style><div id=\"sk-container-id-2\" class=\"sk-top-container\"><div class=\"sk-text-repr-fallback\"><pre>SVC(kernel=&#x27;linear&#x27;, random_state=0)</pre><b>In a Jupyter environment, please rerun this cell to show the HTML representation or trust the notebook. <br />On GitHub, the HTML representation is unable to render, please try loading this page with nbviewer.org.</b></div><div class=\"sk-container\" hidden><div class=\"sk-item\"><div class=\"sk-estimator sk-toggleable\"><input class=\"sk-toggleable__control sk-hidden--visually\" id=\"sk-estimator-id-2\" type=\"checkbox\" checked><label for=\"sk-estimator-id-2\" class=\"sk-toggleable__label sk-toggleable__label-arrow\">SVC</label><div class=\"sk-toggleable__content\"><pre>SVC(kernel=&#x27;linear&#x27;, random_state=0)</pre></div></div></div></div></div>"
            ],
            "text/plain": [
              "SVC(kernel='linear', random_state=0)"
            ]
          },
          "execution_count": 31,
          "metadata": {},
          "output_type": "execute_result"
        }
      ],
      "source": [
        "from sklearn.svm import SVC # \"Support vector classifier\"\n",
        "model_svm = SVC(kernel='linear', random_state=0)\n",
        "model_svm.fit(X_new_train, Y_train)"
      ]
    },
    {
      "cell_type": "code",
      "execution_count": null,
      "metadata": {
        "colab": {
          "base_uri": "https://localhost:8080/"
        },
        "id": "bVAL67OzFSGI",
        "outputId": "10e4ab8f-bf59-40c6-e274-38c56c663cd9"
      },
      "outputs": [
        {
          "name": "stdout",
          "output_type": "stream",
          "text": [
            "Accuracy score of the training data :  0.8897284836065574\n"
          ]
        }
      ],
      "source": [
        "# accuracy score on the training data\n",
        "X_train_prediction = model_svm.predict(X_new_train)\n",
        "training_data_accuracy = accuracy_score(X_train_prediction, Y_train)\n",
        "\n",
        "print('Accuracy score of the training data : ', training_data_accuracy)"
      ]
    },
    {
      "cell_type": "code",
      "execution_count": null,
      "metadata": {
        "colab": {
          "base_uri": "https://localhost:8080/"
        },
        "id": "k69IuWnaFUng",
        "outputId": "04c0e4b2-f4a8-4f40-ebb1-fb7e4cc3d166"
      },
      "outputs": [
        {
          "name": "stdout",
          "output_type": "stream",
          "text": [
            "Accuracy score of the test data :  0.6562860438292965\n"
          ]
        }
      ],
      "source": [
        "# accuracy score on the test data\n",
        "X_test_prediction = model_svm.predict(X_new_test)\n",
        "test_data_accuracy = accuracy_score(X_test_prediction, Y_test)\n",
        "\n",
        "print('Accuracy score of the test data : ', test_data_accuracy)# accuracy score on the test data\n"
      ]
    },
    {
      "cell_type": "code",
      "execution_count": null,
      "metadata": {
        "id": "KF3RQxyAGu-M"
      },
      "outputs": [],
      "source": [
        "pred_svm = model_svm.predict(X_new_test)"
      ]
    },
    {
      "cell_type": "code",
      "execution_count": null,
      "metadata": {
        "colab": {
          "base_uri": "https://localhost:8080/"
        },
        "id": "uG1rngf5HadS",
        "outputId": "59e37007-1904-48b7-c6fe-4d5db1ea7f28"
      },
      "outputs": [
        {
          "name": "stdout",
          "output_type": "stream",
          "text": [
            "['INFJ']\n"
          ]
        }
      ],
      "source": [
        "X_news = X_new_test[0]\n",
        "\n",
        "prediction = model_svm.predict(X_new_test[1])\n",
        "print(prediction)"
      ]
    },
    {
      "cell_type": "markdown",
      "metadata": {
        "id": "AcGMt7tSw7RW"
      },
      "source": [
        "# Calculating overall accuracy for SVM"
      ]
    },
    {
      "cell_type": "code",
      "execution_count": null,
      "metadata": {
        "colab": {
          "base_uri": "https://localhost:8080/"
        },
        "id": "qk1tZqz0xB0B",
        "outputId": "e949fbeb-61db-4257-82df-606a2f765d60"
      },
      "outputs": [
        {
          "name": "stdout",
          "output_type": "stream",
          "text": [
            "Accuracy: 0.6562860438292965\n"
          ]
        }
      ],
      "source": [
        "# Calculate accuracy\n",
        "accuracy = accuracy_score(Y_test, pred_svm)\n",
        "print(f\"Accuracy: {accuracy}\")"
      ]
    },
    {
      "cell_type": "code",
      "execution_count": null,
      "metadata": {
        "colab": {
          "base_uri": "https://localhost:8080/",
          "height": 466
        },
        "id": "qIwg2iOyHd3V",
        "outputId": "438172d2-d0e2-4d3d-c9dd-1e66ca228fc6"
      },
      "outputs": [
        {
          "data": {
            "text/plain": [
              "Text(77.92222222222227, 0.5, 'Actual')"
            ]
          },
          "execution_count": 37,
          "metadata": {},
          "output_type": "execute_result"
        },
        {
          "data": {
            "image/png": "[encoded data removed]",
            "text/plain": [
              "<Figure size 640x480 with 2 Axes>"
            ]
          },
          "metadata": {},
          "output_type": "display_data"
        }
      ],
      "source": [
        "matrix_confusion= confusion_matrix(Y_test, pred_svm)\n",
        "sns.heatmap(matrix_confusion, square=True, annot=True, cmap='Greens', fmt='d', cbar=True)\n",
        "plt.xlabel('Predicted')\n",
        "plt.ylabel('Actual')"
      ]
    },
    {
      "cell_type": "code",
      "execution_count": null,
      "metadata": {
        "colab": {
          "base_uri": "https://localhost:8080/"
        },
        "id": "6xznVZTAHiXA",
        "outputId": "c3c13e95-00be-43e3-a9df-1fde390b6728"
      },
      "outputs": [
        {
          "name": "stdout",
          "output_type": "stream",
          "text": [
            "              precision    recall  f1-score   support\n",
            "\n",
            "        ENFJ       0.50      0.32      0.39        19\n",
            "        ENFP       0.77      0.61      0.68        67\n",
            "        ENTJ       0.64      0.30      0.41        23\n",
            "        ENTP       0.60      0.57      0.59        68\n",
            "        ESFJ       0.33      0.25      0.29         4\n",
            "        ESFP       0.00      0.00      0.00         5\n",
            "        ESTJ       0.00      0.00      0.00         4\n",
            "        ESTP       0.67      0.22      0.33         9\n",
            "        INFJ       0.68      0.70      0.69       147\n",
            "        INFP       0.62      0.81      0.70       183\n",
            "        INTJ       0.62      0.63      0.62       110\n",
            "        INTP       0.69      0.75      0.72       130\n",
            "        ISFJ       1.00      0.53      0.69        17\n",
            "        ISFP       0.62      0.48      0.54        27\n",
            "        ISTJ       0.91      0.50      0.65        20\n",
            "        ISTP       0.64      0.68      0.66        34\n",
            "\n",
            "    accuracy                           0.66       867\n",
            "   macro avg       0.58      0.46      0.50       867\n",
            "weighted avg       0.66      0.66      0.65       867\n",
            "\n"
          ]
        },
        {
          "name": "stderr",
          "output_type": "stream",
          "text": [
            "/usr/local/lib/python3.10/dist-packages/sklearn/metrics/_classification.py:1344: UndefinedMetricWarning: Precision and F-score are ill-defined and being set to 0.0 in labels with no predicted samples. Use `zero_division` parameter to control this behavior.\n",
            "  _warn_prf(average, modifier, msg_start, len(result))\n",
            "/usr/local/lib/python3.10/dist-packages/sklearn/metrics/_classification.py:1344: UndefinedMetricWarning: Precision and F-score are ill-defined and being set to 0.0 in labels with no predicted samples. Use `zero_division` parameter to control this behavior.\n",
            "  _warn_prf(average, modifier, msg_start, len(result))\n",
            "/usr/local/lib/python3.10/dist-packages/sklearn/metrics/_classification.py:1344: UndefinedMetricWarning: Precision and F-score are ill-defined and being set to 0.0 in labels with no predicted samples. Use `zero_division` parameter to control this behavior.\n",
            "  _warn_prf(average, modifier, msg_start, len(result))\n"
          ]
        }
      ],
      "source": [
        "report= classification_report(Y_test, pred_svm)\n",
        "print(report)"
      ]
    },
    {
      "cell_type": "markdown",
      "metadata": {
        "id": "bgbm12_wn_TH"
      },
      "source": [
        "# 3. Decision Tree"
      ]
    },
    {
      "cell_type": "code",
      "execution_count": null,
      "metadata": {
        "colab": {
          "base_uri": "https://localhost:8080/",
          "height": 75
        },
        "id": "Zcsl7r-iHtYr",
        "outputId": "fd20487f-f422-472a-ea42-e036e0320bf8"
      },
      "outputs": [
        {
          "data": {
            "text/html": [
              "<style>#sk-container-id-3 {color: black;background-color: white;}#sk-container-id-3 pre{padding: 0;}#sk-container-id-3 div.sk-toggleable {background-color: white;}#sk-container-id-3 label.sk-toggleable__label {cursor: pointer;display: block;width: 100%;margin-bottom: 0;padding: 0.3em;box-sizing: border-box;text-align: center;}#sk-container-id-3 label.sk-toggleable__label-arrow:before {content: \"▸\";float: left;margin-right: 0.25em;color: #696969;}#sk-container-id-3 label.sk-toggleable__label-arrow:hover:before {color: black;}#sk-container-id-3 div.sk-estimator:hover label.sk-toggleable__label-arrow:before {color: black;}#sk-container-id-3 div.sk-toggleable__content {max-height: 0;max-width: 0;overflow: hidden;text-align: left;background-color: #f0f8ff;}#sk-container-id-3 div.sk-toggleable__content pre {margin: 0.2em;color: black;border-radius: 0.25em;background-color: #f0f8ff;}#sk-container-id-3 input.sk-toggleable__control:checked~div.sk-toggleable__content {max-height: 200px;max-width: 100%;overflow: auto;}#sk-container-id-3 input.sk-toggleable__control:checked~label.sk-toggleable__label-arrow:before {content: \"▾\";}#sk-container-id-3 div.sk-estimator input.sk-toggleable__control:checked~label.sk-toggleable__label {background-color: #d4ebff;}#sk-container-id-3 div.sk-label input.sk-toggleable__control:checked~label.sk-toggleable__label {background-color: #d4ebff;}#sk-container-id-3 input.sk-hidden--visually {border: 0;clip: rect(1px 1px 1px 1px);clip: rect(1px, 1px, 1px, 1px);height: 1px;margin: -1px;overflow: hidden;padding: 0;position: absolute;width: 1px;}#sk-container-id-3 div.sk-estimator {font-family: monospace;background-color: #f0f8ff;border: 1px dotted black;border-radius: 0.25em;box-sizing: border-box;margin-bottom: 0.5em;}#sk-container-id-3 div.sk-estimator:hover {background-color: #d4ebff;}#sk-container-id-3 div.sk-parallel-item::after {content: \"\";width: 100%;border-bottom: 1px solid gray;flex-grow: 1;}#sk-container-id-3 div.sk-label:hover label.sk-toggleable__label {background-color: #d4ebff;}#sk-container-id-3 div.sk-serial::before {content: \"\";position: absolute;border-left: 1px solid gray;box-sizing: border-box;top: 0;bottom: 0;left: 50%;z-index: 0;}#sk-container-id-3 div.sk-serial {display: flex;flex-direction: column;align-items: center;background-color: white;padding-right: 0.2em;padding-left: 0.2em;position: relative;}#sk-container-id-3 div.sk-item {position: relative;z-index: 1;}#sk-container-id-3 div.sk-parallel {display: flex;align-items: stretch;justify-content: center;background-color: white;position: relative;}#sk-container-id-3 div.sk-item::before, #sk-container-id-3 div.sk-parallel-item::before {content: \"\";position: absolute;border-left: 1px solid gray;box-sizing: border-box;top: 0;bottom: 0;left: 50%;z-index: -1;}#sk-container-id-3 div.sk-parallel-item {display: flex;flex-direction: column;z-index: 1;position: relative;background-color: white;}#sk-container-id-3 div.sk-parallel-item:first-child::after {align-self: flex-end;width: 50%;}#sk-container-id-3 div.sk-parallel-item:last-child::after {align-self: flex-start;width: 50%;}#sk-container-id-3 div.sk-parallel-item:only-child::after {width: 0;}#sk-container-id-3 div.sk-dashed-wrapped {border: 1px dashed gray;margin: 0 0.4em 0.5em 0.4em;box-sizing: border-box;padding-bottom: 0.4em;background-color: white;}#sk-container-id-3 div.sk-label label {font-family: monospace;font-weight: bold;display: inline-block;line-height: 1.2em;}#sk-container-id-3 div.sk-label-container {text-align: center;}#sk-container-id-3 div.sk-container {/* jupyter's `normalize.less` sets `[hidden] { display: none; }` but bootstrap.min.css set `[hidden] { display: none !important; }` so we also need the `!important` here to be able to override the default hidden behavior on the sphinx rendered scikit-learn.org. See: https://github.com/scikit-learn/scikit-learn/issues/21755 */display: inline-block !important;position: relative;}#sk-container-id-3 div.sk-text-repr-fallback {display: none;}</style><div id=\"sk-container-id-3\" class=\"sk-top-container\"><div class=\"sk-text-repr-fallback\"><pre>DecisionTreeClassifier(criterion=&#x27;entropy&#x27;, max_depth=10, random_state=3)</pre><b>In a Jupyter environment, please rerun this cell to show the HTML representation or trust the notebook. <br />On GitHub, the HTML representation is unable to render, please try loading this page with nbviewer.org.</b></div><div class=\"sk-container\" hidden><div class=\"sk-item\"><div class=\"sk-estimator sk-toggleable\"><input class=\"sk-toggleable__control sk-hidden--visually\" id=\"sk-estimator-id-3\" type=\"checkbox\" checked><label for=\"sk-estimator-id-3\" class=\"sk-toggleable__label sk-toggleable__label-arrow\">DecisionTreeClassifier</label><div class=\"sk-toggleable__content\"><pre>DecisionTreeClassifier(criterion=&#x27;entropy&#x27;, max_depth=10, random_state=3)</pre></div></div></div></div></div>"
            ],
            "text/plain": [
              "DecisionTreeClassifier(criterion='entropy', max_depth=10, random_state=3)"
            ]
          },
          "execution_count": 39,
          "metadata": {},
          "output_type": "execute_result"
        }
      ],
      "source": [
        "model_dt = DecisionTreeClassifier(max_depth=10, criterion='entropy', random_state=3)\n",
        "\n",
        "# Fit dt to the training set\n",
        "model_dt.fit(X_new_train, Y_train)"
      ]
    },
    {
      "cell_type": "code",
      "execution_count": null,
      "metadata": {
        "colab": {
          "base_uri": "https://localhost:8080/"
        },
        "id": "x_V2fs0RHuiv",
        "outputId": "ec7986b9-561e-42d1-ffb3-a80f97b86f15"
      },
      "outputs": [
        {
          "name": "stdout",
          "output_type": "stream",
          "text": [
            "Accuracy score of the training data :  0.7165727459016393\n"
          ]
        }
      ],
      "source": [
        "# accuracy score on the training data\n",
        "X_train_prediction = model_dt.predict(X_new_train)\n",
        "training_data_accuracy = accuracy_score(X_train_prediction, Y_train)\n",
        "\n",
        "print('Accuracy score of the training data : ', training_data_accuracy)"
      ]
    },
    {
      "cell_type": "code",
      "execution_count": null,
      "metadata": {
        "colab": {
          "base_uri": "https://localhost:8080/"
        },
        "id": "swKlxOecIfDo",
        "outputId": "65cdca82-821c-43c6-9b24-1520cd509e52"
      },
      "outputs": [
        {
          "name": "stdout",
          "output_type": "stream",
          "text": [
            "Accuracy score of the test data :  0.5167243367935409\n"
          ]
        }
      ],
      "source": [
        "# accuracy score on the test data\n",
        "X_test_prediction = model_dt.predict(X_new_test)\n",
        "test_data_accuracy = accuracy_score(X_test_prediction, Y_test)\n",
        "\n",
        "print('Accuracy score of the test data : ', test_data_accuracy)"
      ]
    },
    {
      "cell_type": "code",
      "execution_count": null,
      "metadata": {
        "colab": {
          "base_uri": "https://localhost:8080/"
        },
        "id": "JT7J25RKIkbN",
        "outputId": "a4051ffd-d28a-46e2-c988-5e1dd5f5c135"
      },
      "outputs": [
        {
          "name": "stdout",
          "output_type": "stream",
          "text": [
            "['ENTP']\n"
          ]
        }
      ],
      "source": [
        "X_news = X_new_test[4]\n",
        "\n",
        "prediction = model_dt.predict(X_new_test[8])\n",
        "print(prediction)"
      ]
    },
    {
      "cell_type": "code",
      "execution_count": null,
      "metadata": {
        "id": "IXBPeN_sJByg"
      },
      "outputs": [],
      "source": [
        "pred_dt = model_dt.predict(X_new_test)"
      ]
    },
    {
      "cell_type": "markdown",
      "metadata": {
        "id": "Jik8c7W7wRme"
      },
      "source": [
        "# Calculating Overall accuracy for decision tree"
      ]
    },
    {
      "cell_type": "code",
      "execution_count": null,
      "metadata": {
        "colab": {
          "base_uri": "https://localhost:8080/"
        },
        "id": "2svEq_lGvWaH",
        "outputId": "f5ae647a-3658-42b7-b5c2-6dc540e2859a"
      },
      "outputs": [
        {
          "name": "stdout",
          "output_type": "stream",
          "text": [
            "Accuracy: 0.5167243367935409\n"
          ]
        }
      ],
      "source": [
        "# Calculate accuracy\n",
        "accuracy = accuracy_score(Y_test, pred_dt)\n",
        "print(f\"Accuracy: {accuracy}\")"
      ]
    },
    {
      "cell_type": "code",
      "execution_count": null,
      "metadata": {
        "colab": {
          "base_uri": "https://localhost:8080/",
          "height": 466
        },
        "id": "4UM8Yj_DJejF",
        "outputId": "5fb7fbdf-1aa4-4475-8fc9-1db924fb0ec8"
      },
      "outputs": [
        {
          "data": {
            "text/plain": [
              "Text(77.92222222222227, 0.5, 'Actual')"
            ]
          },
          "execution_count": 45,
          "metadata": {},
          "output_type": "execute_result"
        },
        {
          "data": {
            "image/png": "[encoded data removed]",
            "text/plain": [
              "<Figure size 640x480 with 2 Axes>"
            ]
          },
          "metadata": {},
          "output_type": "display_data"
        }
      ],
      "source": [
        "matrix_confusion= confusion_matrix(Y_test, pred_dt)\n",
        "sns.heatmap(matrix_confusion, square=True, annot=True, cmap='Purples', fmt='d', cbar=True)\n",
        "plt.xlabel('Predicted')\n",
        "plt.ylabel('Actual')"
      ]
    },
    {
      "cell_type": "code",
      "execution_count": null,
      "metadata": {
        "colab": {
          "base_uri": "https://localhost:8080/"
        },
        "id": "Ka_GgknxJg55",
        "outputId": "72596a8f-aa5b-4939-b1cb-ab89e7ad9588"
      },
      "outputs": [
        {
          "name": "stdout",
          "output_type": "stream",
          "text": [
            "              precision    recall  f1-score   support\n",
            "\n",
            "        ENFJ       0.44      0.21      0.29        19\n",
            "        ENFP       0.45      0.43      0.44        67\n",
            "        ENTJ       0.35      0.26      0.30        23\n",
            "        ENTP       0.44      0.50      0.47        68\n",
            "        ESFJ       0.00      0.00      0.00         4\n",
            "        ESFP       0.00      0.00      0.00         5\n",
            "        ESTJ       0.00      0.00      0.00         4\n",
            "        ESTP       0.00      0.00      0.00         9\n",
            "        INFJ       0.42      0.63      0.51       147\n",
            "        INFP       0.65      0.69      0.67       183\n",
            "        INTJ       0.56      0.52      0.54       110\n",
            "        INTP       0.64      0.58      0.61       130\n",
            "        ISFJ       0.17      0.18      0.17        17\n",
            "        ISFP       0.21      0.11      0.15        27\n",
            "        ISTJ       0.00      0.00      0.00        20\n",
            "        ISTP       0.56      0.53      0.55        34\n",
            "\n",
            "    accuracy                           0.52       867\n",
            "   macro avg       0.31      0.29      0.29       867\n",
            "weighted avg       0.50      0.52      0.50       867\n",
            "\n"
          ]
        },
        {
          "name": "stderr",
          "output_type": "stream",
          "text": [
            "/usr/local/lib/python3.10/dist-packages/sklearn/metrics/_classification.py:1344: UndefinedMetricWarning: Precision and F-score are ill-defined and being set to 0.0 in labels with no predicted samples. Use `zero_division` parameter to control this behavior.\n",
            "  _warn_prf(average, modifier, msg_start, len(result))\n",
            "/usr/local/lib/python3.10/dist-packages/sklearn/metrics/_classification.py:1344: UndefinedMetricWarning: Precision and F-score are ill-defined and being set to 0.0 in labels with no predicted samples. Use `zero_division` parameter to control this behavior.\n",
            "  _warn_prf(average, modifier, msg_start, len(result))\n",
            "/usr/local/lib/python3.10/dist-packages/sklearn/metrics/_classification.py:1344: UndefinedMetricWarning: Precision and F-score are ill-defined and being set to 0.0 in labels with no predicted samples. Use `zero_division` parameter to control this behavior.\n",
            "  _warn_prf(average, modifier, msg_start, len(result))\n"
          ]
        }
      ],
      "source": [
        "report= classification_report(Y_test, pred_dt)\n",
        "print(report)"
      ]
    },
    {
      "cell_type": "markdown",
      "metadata": {
        "id": "Wc1rsPHMoTLE"
      },
      "source": [
        "# Applying Ensemble Technique"
      ]
    },
    {
      "cell_type": "code",
      "execution_count": null,
      "metadata": {
        "id": "agMamicyobS0"
      },
      "outputs": [],
      "source": [
        "from sklearn.ensemble import VotingClassifier"
      ]
    },
    {
      "cell_type": "markdown",
      "metadata": {
        "id": "pn47oVuOtSEW"
      },
      "source": [
        "After that, we create an ensemble model using the VotingClassifier class. We pass a list of tuples, where each tuple contains a name and a model instance. We set the voting parameter to 'hard', indicating that majority voting will be used to make predictions."
      ]
    },
    {
      "cell_type": "code",
      "execution_count": null,
      "metadata": {
        "id": "vXZ3jqJgoYVW"
      },
      "outputs": [],
      "source": [
        "ensemble_model = VotingClassifier(\n",
        "    estimators=[('tree', model_dt), ('svm', model_svm), ('logistic', model_log)],\n",
        "    voting='hard'  # Use majority voting\n",
        ")"
      ]
    },
    {
      "cell_type": "code",
      "execution_count": null,
      "metadata": {
        "colab": {
          "base_uri": "https://localhost:8080/",
          "height": 110
        },
        "id": "TZ28rv1ItzjG",
        "outputId": "621be831-7a4a-457b-aa4c-80915daef3f8"
      },
      "outputs": [
        {
          "data": {
            "text/html": [
              "<style>#sk-container-id-4 {color: black;background-color: white;}#sk-container-id-4 pre{padding: 0;}#sk-container-id-4 div.sk-toggleable {background-color: white;}#sk-container-id-4 label.sk-toggleable__label {cursor: pointer;display: block;width: 100%;margin-bottom: 0;padding: 0.3em;box-sizing: border-box;text-align: center;}#sk-container-id-4 label.sk-toggleable__label-arrow:before {content: \"▸\";float: left;margin-right: 0.25em;color: #696969;}#sk-container-id-4 label.sk-toggleable__label-arrow:hover:before {color: black;}#sk-container-id-4 div.sk-estimator:hover label.sk-toggleable__label-arrow:before {color: black;}#sk-container-id-4 div.sk-toggleable__content {max-height: 0;max-width: 0;overflow: hidden;text-align: left;background-color: #f0f8ff;}#sk-container-id-4 div.sk-toggleable__content pre {margin: 0.2em;color: black;border-radius: 0.25em;background-color: #f0f8ff;}#sk-container-id-4 input.sk-toggleable__control:checked~div.sk-toggleable__content {max-height: 200px;max-width: 100%;overflow: auto;}#sk-container-id-4 input.sk-toggleable__control:checked~label.sk-toggleable__label-arrow:before {content: \"▾\";}#sk-container-id-4 div.sk-estimator input.sk-toggleable__control:checked~label.sk-toggleable__label {background-color: #d4ebff;}#sk-container-id-4 div.sk-label input.sk-toggleable__control:checked~label.sk-toggleable__label {background-color: #d4ebff;}#sk-container-id-4 input.sk-hidden--visually {border: 0;clip: rect(1px 1px 1px 1px);clip: rect(1px, 1px, 1px, 1px);height: 1px;margin: -1px;overflow: hidden;padding: 0;position: absolute;width: 1px;}#sk-container-id-4 div.sk-estimator {font-family: monospace;background-color: #f0f8ff;border: 1px dotted black;border-radius: 0.25em;box-sizing: border-box;margin-bottom: 0.5em;}#sk-container-id-4 div.sk-estimator:hover {background-color: #d4ebff;}#sk-container-id-4 div.sk-parallel-item::after {content: \"\";width: 100%;border-bottom: 1px solid gray;flex-grow: 1;}#sk-container-id-4 div.sk-label:hover label.sk-toggleable__label {background-color: #d4ebff;}#sk-container-id-4 div.sk-serial::before {content: \"\";position: absolute;border-left: 1px solid gray;box-sizing: border-box;top: 0;bottom: 0;left: 50%;z-index: 0;}#sk-container-id-4 div.sk-serial {display: flex;flex-direction: column;align-items: center;background-color: white;padding-right: 0.2em;padding-left: 0.2em;position: relative;}#sk-container-id-4 div.sk-item {position: relative;z-index: 1;}#sk-container-id-4 div.sk-parallel {display: flex;align-items: stretch;justify-content: center;background-color: white;position: relative;}#sk-container-id-4 div.sk-item::before, #sk-container-id-4 div.sk-parallel-item::before {content: \"\";position: absolute;border-left: 1px solid gray;box-sizing: border-box;top: 0;bottom: 0;left: 50%;z-index: -1;}#sk-container-id-4 div.sk-parallel-item {display: flex;flex-direction: column;z-index: 1;position: relative;background-color: white;}#sk-container-id-4 div.sk-parallel-item:first-child::after {align-self: flex-end;width: 50%;}#sk-container-id-4 div.sk-parallel-item:last-child::after {align-self: flex-start;width: 50%;}#sk-container-id-4 div.sk-parallel-item:only-child::after {width: 0;}#sk-container-id-4 div.sk-dashed-wrapped {border: 1px dashed gray;margin: 0 0.4em 0.5em 0.4em;box-sizing: border-box;padding-bottom: 0.4em;background-color: white;}#sk-container-id-4 div.sk-label label {font-family: monospace;font-weight: bold;display: inline-block;line-height: 1.2em;}#sk-container-id-4 div.sk-label-container {text-align: center;}#sk-container-id-4 div.sk-container {/* jupyter's `normalize.less` sets `[hidden] { display: none; }` but bootstrap.min.css set `[hidden] { display: none !important; }` so we also need the `!important` here to be able to override the default hidden behavior on the sphinx rendered scikit-learn.org. See: https://github.com/scikit-learn/scikit-learn/issues/21755 */display: inline-block !important;position: relative;}#sk-container-id-4 div.sk-text-repr-fallback {display: none;}</style><div id=\"sk-container-id-4\" class=\"sk-top-container\"><div class=\"sk-text-repr-fallback\"><pre>VotingClassifier(estimators=[(&#x27;tree&#x27;,\n",
              "                              DecisionTreeClassifier(criterion=&#x27;entropy&#x27;,\n",
              "                                                     max_depth=10,\n",
              "                                                     random_state=3)),\n",
              "                             (&#x27;svm&#x27;, SVC(kernel=&#x27;linear&#x27;, random_state=0)),\n",
              "                             (&#x27;logistic&#x27;, LogisticRegression(max_iter=1000))])</pre><b>In a Jupyter environment, please rerun this cell to show the HTML representation or trust the notebook. <br />On GitHub, the HTML representation is unable to render, please try loading this page with nbviewer.org.</b></div><div class=\"sk-container\" hidden><div class=\"sk-item sk-dashed-wrapped\"><div class=\"sk-label-container\"><div class=\"sk-label sk-toggleable\"><input class=\"sk-toggleable__control sk-hidden--visually\" id=\"sk-estimator-id-4\" type=\"checkbox\" ><label for=\"sk-estimator-id-4\" class=\"sk-toggleable__label sk-toggleable__label-arrow\">VotingClassifier</label><div class=\"sk-toggleable__content\"><pre>VotingClassifier(estimators=[(&#x27;tree&#x27;,\n",
              "                              DecisionTreeClassifier(criterion=&#x27;entropy&#x27;,\n",
              "                                                     max_depth=10,\n",
              "                                                     random_state=3)),\n",
              "                             (&#x27;svm&#x27;, SVC(kernel=&#x27;linear&#x27;, random_state=0)),\n",
              "                             (&#x27;logistic&#x27;, LogisticRegression(max_iter=1000))])</pre></div></div></div><div class=\"sk-parallel\"><div class=\"sk-parallel-item\"><div class=\"sk-item\"><div class=\"sk-label-container\"><div class=\"sk-label sk-toggleable\"><label>tree</label></div></div><div class=\"sk-serial\"><div class=\"sk-item\"><div class=\"sk-estimator sk-toggleable\"><input class=\"sk-toggleable__control sk-hidden--visually\" id=\"sk-estimator-id-5\" type=\"checkbox\" ><label for=\"sk-estimator-id-5\" class=\"sk-toggleable__label sk-toggleable__label-arrow\">DecisionTreeClassifier</label><div class=\"sk-toggleable__content\"><pre>DecisionTreeClassifier(criterion=&#x27;entropy&#x27;, max_depth=10, random_state=3)</pre></div></div></div></div></div></div><div class=\"sk-parallel-item\"><div class=\"sk-item\"><div class=\"sk-label-container\"><div class=\"sk-label sk-toggleable\"><label>svm</label></div></div><div class=\"sk-serial\"><div class=\"sk-item\"><div class=\"sk-estimator sk-toggleable\"><input class=\"sk-toggleable__control sk-hidden--visually\" id=\"sk-estimator-id-6\" type=\"checkbox\" ><label for=\"sk-estimator-id-6\" class=\"sk-toggleable__label sk-toggleable__label-arrow\">SVC</label><div class=\"sk-toggleable__content\"><pre>SVC(kernel=&#x27;linear&#x27;, random_state=0)</pre></div></div></div></div></div></div><div class=\"sk-parallel-item\"><div class=\"sk-item\"><div class=\"sk-label-container\"><div class=\"sk-label sk-toggleable\"><label>logistic</label></div></div><div class=\"sk-serial\"><div class=\"sk-item\"><div class=\"sk-estimator sk-toggleable\"><input class=\"sk-toggleable__control sk-hidden--visually\" id=\"sk-estimator-id-7\" type=\"checkbox\" ><label for=\"sk-estimator-id-7\" class=\"sk-toggleable__label sk-toggleable__label-arrow\">LogisticRegression</label><div class=\"sk-toggleable__content\"><pre>LogisticRegression(max_iter=1000)</pre></div></div></div></div></div></div></div></div></div></div>"
            ],
            "text/plain": [
              "VotingClassifier(estimators=[('tree',\n",
              "                              DecisionTreeClassifier(criterion='entropy',\n",
              "                                                     max_depth=10,\n",
              "                                                     random_state=3)),\n",
              "                             ('svm', SVC(kernel='linear', random_state=0)),\n",
              "                             ('logistic', LogisticRegression(max_iter=1000))])"
            ]
          },
          "execution_count": 49,
          "metadata": {},
          "output_type": "execute_result"
        }
      ],
      "source": [
        "ensemble_model.fit(X_new_train, Y_train)"
      ]
    },
    {
      "cell_type": "code",
      "execution_count": null,
      "metadata": {
        "id": "6ZbCgTASHr6Z"
      },
      "outputs": [],
      "source": [
        "ensemble_prediction = ensemble_model.predict(X_new_test)"
      ]
    },
    {
      "cell_type": "code",
      "execution_count": null,
      "metadata": {
        "colab": {
          "base_uri": "https://localhost:8080/"
        },
        "id": "nAQkvdAYJlJt",
        "outputId": "95c82fd6-fbc0-44bd-dfe8-40c89af3c3f2"
      },
      "outputs": [
        {
          "name": "stdout",
          "output_type": "stream",
          "text": [
            "Accuracy: 0.6608996539792388\n"
          ]
        }
      ],
      "source": [
        "accuracy = accuracy_score(Y_test, ensemble_prediction)\n",
        "print(f\"Accuracy: {accuracy}\")"
      ]
    },
    {
      "cell_type": "code",
      "execution_count": null,
      "metadata": {
        "colab": {
          "base_uri": "https://localhost:8080/"
        },
        "id": "MAiihKNfJlc1",
        "outputId": "ef78a994-0b46-42d4-d81e-053b83b6106c",
        "cellView": "form",
        "collapsed": true
      },
      "outputs": [
        {
          "name": "stdout",
          "output_type": "stream",
          "text": [
            "['ENFP']\n"
          ]
        }
      ],
      "source": [
        "#@title\n",
        "new_text = \"I love to sing and dance\"\n",
        "new_text_tfidf = vectorizer.transform([new_text])\n",
        "\n",
        "prediction = ensemble_model.predict(new_text_tfidf)\n",
        "\n",
        "# # Print the prediction\n",
        "print(prediction)"
      ]
    },
    {
      "cell_type": "code",
      "execution_count": null,
      "metadata": {
        "id": "1NndxeLzNEJo",
        "cellView": "form"
      },
      "outputs": [],
      "source": [
        "#@title\n",
        "new_text = \"I love to sing and dance\"\n",
        "new_text_tfidf = vectorizer.transform([new_text])\n",
        "\n",
        "prediction = model_log.predict(new_text_tfidf)\n",
        "\n",
        "# # Print the prediction\n",
        "print(prediction)"
      ]
    },
    {
      "cell_type": "code",
      "execution_count": null,
      "metadata": {
        "id": "h9SHbLOuKSbE",
        "cellView": "form"
      },
      "outputs": [],
      "source": [
        "#@title\n",
        "new_text = \"I love being quite and drawing\"\n",
        "new_text_tfidf = vectorizer.transform([new_text])\n",
        "\n",
        "predictionn = model_svm.predict(new_text_tfidf)\n",
        "\n",
        "# # Print the prediction\n",
        "print(predictionn)"
      ]
    },
    {
      "cell_type": "code",
      "execution_count": null,
      "metadata": {
        "id": "IVcbKCteKYDx",
        "cellView": "form"
      },
      "outputs": [],
      "source": [
        "#@title\n",
        "new_text = \"outgoing and screaming and dancing and crying and talking\"\n",
        "new_text_tfidf = vectorizer.transform([new_text])\n",
        "\n",
        "predictionn = model_dt.predict(new_text_tfidf)\n",
        "\n",
        "# # Print the prediction\n",
        "print(predictionn)"
      ]
    },
    {
      "cell_type": "code",
      "execution_count": null,
      "metadata": {
        "id": "_wDp_1AaLct0"
      },
      "outputs": [],
      "source": [
        "import joblib\n",
        "\n",
        "# Assuming you have trained a model named 'model_log' and a vectorizer named 'vectorizer'\n",
        "\n",
        "# Save the trained model\n",
        "joblib.dump(model_log, '/content/drive/MyDrive/fypalldata/trained_model.pkl')\n"
      ]
    },
    {
      "cell_type": "code",
      "execution_count": null,
      "metadata": {
        "id": "Wbh_Y5W2Lu7X"
      },
      "outputs": [],
      "source": [
        "# Save the vectorizer\n",
        "joblib.dump(vectorizer, '/content/drive/MyDrive/fypalldata/vectorizer.pkl')"
      ]
    },
    {
      "cell_type": "code",
      "execution_count": null,
      "metadata": {
        "id": "XdarJHaAQUVl"
      },
      "outputs": [],
      "source": [
        "import joblib\n",
        "\n",
        "# Assuming you have trained a model named 'model_log' and a vectorizer named 'vectorizer'\n",
        "\n",
        "# Save the trained model\n",
        "joblib.dump(model_svm, '/content/drive/MyDrive/fypalldata/trained_modelsvm.pkl')"
      ]
    },
    {
      "cell_type": "code",
      "execution_count": null,
      "metadata": {
        "colab": {
          "base_uri": "https://localhost:8080/"
        },
        "id": "BLgJUtAmUwkq",
        "outputId": "2d9935a8-0ccf-4858-85ad-b4642835811d"
      },
      "outputs": [
        {
          "data": {
            "text/plain": [
              "['/content/drive/MyDrive/fypalldata/trained_modeldt.pkl']"
            ]
          },
          "execution_count": 61,
          "metadata": {},
          "output_type": "execute_result"
        }
      ],
      "source": [
        "import joblib\n",
        "\n",
        "# Assuming you have trained a model named 'model_log' and a vectorizer named 'vectorizer'\n",
        "\n",
        "# Save the trained model\n",
        "joblib.dump(model_dt, '/content/drive/MyDrive/fypalldata/trained_modeldt.pkl')"
      ]
    },
    {
      "cell_type": "markdown",
      "metadata": {
        "id": "C8n4oYqoN85w"
      },
      "source": [
        "# Dumping our ensembled model"
      ]
    },
    {
      "cell_type": "code",
      "execution_count": null,
      "metadata": {
        "colab": {
          "base_uri": "https://localhost:8080/"
        },
        "id": "Xo8yWJBGNzRj",
        "outputId": "32f87416-4467-4fdd-c0b8-098ce26ccb3d"
      },
      "outputs": [
        {
          "data": {
            "text/plain": [
              "['/content/drive/MyDrive/fypalldata/en_model.pkl']"
            ]
          },
          "execution_count": 63,
          "metadata": {},
          "output_type": "execute_result"
        }
      ],
      "source": [
        "import joblib\n",
        "\n",
        "# Save the trained model\n",
        "joblib.dump(ensemble_model, '/content/drive/MyDrive/fypalldata/en_model.pkl')"
      ]
    },
    {
      "cell_type": "code",
      "execution_count": null,
      "metadata": {
        "colab": {
          "background_save": true,
          "base_uri": "https://localhost:8080/"
        },
        "id": "01Q_XoGQMWv0",
        "outputId": "6a833c8b-7973-480f-a2ca-433201343c07"
      },
      "outputs": [
        {
          "name": "stdout",
          "output_type": "stream",
          "text": [
            "Still running...\n",
            "Still running...\n",
            "Still running...\n"
          ]
        },
        {
          "ename": "KeyboardInterrupt",
          "evalue": "ignored",
          "output_type": "error",
          "traceback": [
            "\u001b[0;31m---------------------------------------------------------------------------\u001b[0m",
            "\u001b[0;31mKeyboardInterrupt\u001b[0m                         Traceback (most recent call last)",
            "\u001b[0;32m<ipython-input-64-6e84b6da65de>\u001b[0m in \u001b[0;36m<cell line: 3>\u001b[0;34m()\u001b[0m\n\u001b[1;32m      3\u001b[0m \u001b[0;32mwhile\u001b[0m \u001b[0;32mTrue\u001b[0m\u001b[0;34m:\u001b[0m\u001b[0;34m\u001b[0m\u001b[0;34m\u001b[0m\u001b[0m\n\u001b[1;32m      4\u001b[0m     \u001b[0mprint\u001b[0m\u001b[0;34m(\u001b[0m\u001b[0;34m\"Still running...\"\u001b[0m\u001b[0;34m)\u001b[0m\u001b[0;34m\u001b[0m\u001b[0;34m\u001b[0m\u001b[0m\n\u001b[0;32m----> 5\u001b[0;31m     \u001b[0mtime\u001b[0m\u001b[0;34m.\u001b[0m\u001b[0msleep\u001b[0m\u001b[0;34m(\u001b[0m\u001b[0;36m600\u001b[0m\u001b[0;34m)\u001b[0m\u001b[0;34m\u001b[0m\u001b[0;34m\u001b[0m\u001b[0m\n\u001b[0m",
            "\u001b[0;31mKeyboardInterrupt\u001b[0m: "
          ]
        }
      ],
      "source": [
        "import time\n",
        "\n",
        "while True:\n",
        "    print(\"Still running...\")\n",
        "    time.sleep(600)"
      ]
    }
  ],
  "metadata": {
    "colab": {
      "provenance": []
    },
    "kernelspec": {
      "display_name": "Python 3",
      "name": "python3"
    },
    "language_info": {
      "name": "python"
    }
  },
  "nbformat": 4,
  "nbformat_minor": 0
}